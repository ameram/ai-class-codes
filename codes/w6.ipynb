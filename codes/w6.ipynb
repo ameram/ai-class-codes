{
  "nbformat": 4,
  "nbformat_minor": 0,
  "metadata": {
    "colab": {
      "provenance": []
    },
    "kernelspec": {
      "name": "python3",
      "display_name": "Python 3"
    },
    "language_info": {
      "name": "python"
    }
  },
  "cells": [
    {
      "cell_type": "markdown",
      "source": [
        "# Python for AI\n",
        "## Week 6 - 5/8/23\n",
        "\n",
        "## Topics\n",
        "* ~~Data Structures~~\n",
        "  * ~~Lists~~\n",
        "  * ~~Tuples~~\n",
        "  * ~~Dictionaries~~\n",
        "  * ~~Sets~~\n",
        "* ~~Functions~~\n",
        "  * ~~Arguments~~\n",
        "  * ~~Returning Values~~\n",
        "* ~~Libraries~~\n",
        "  * ~~Modules~~\n",
        "* **Object Oriented Programming in Python**\n",
        "\n",
        "\n",
        "# What is Object Oriented Programming?\n",
        "It is just one approach out of many approaches to writing software. In Object-Oriented Programming you use classes as representation of real-world objects and situations and you create objects which are called instances of these classes. Generally you can think of class as a blueprint and object/instance as a house built out of the blueprint. \n",
        "\n",
        "When writing a class you define the general behavior that a whole category of objects can have. You can set unique properties for each object and these will be modeled after real world situations. \n",
        "\n",
        "Creating an object is called instantations. We will create classes and make instances of them. When writing a classes you will define which kind of informatino can be stored in instances and you'll define actions that can be done with these instances. \n",
        "\n",
        "\n",
        "## Why Use Classes?\n",
        "\n",
        "After getting familiar with creating classes we'll write classes that extend the funcationality of existing classes, just like **sharing code**. Obviously, you can store classes in modules and import other programmers' classes.\n",
        "\n",
        "However Object Oriented is not about coding classes and organizing your code, it will give you a **new perspective** to see the world and a fresh framework for solving problems. The concepts related to classes will make you think in object oriented logic and get comfortable in using classes for real world problems. Just like *EA in DB*.\n",
        "\n",
        "Classes can also help you and other programmers **understand the code easily**.\n",
        "\n",
        "## How to Use Classes?\n",
        "You can model anything with classes. Let's start with writing a *Dog* 🐶 class which represents dog. As stated before this isn't **the dog**, it is just **a dog**. Now we have a create variables to store their **properties** like name and age. We also know what dogs **do** like running, eating and sitting. These two bits of information and three behaviors will go into our Dog class. Again mimicing behaviors and information of any dog.\n",
        "\n",
        "### Creating a Class Named Dog.\n"
      ],
      "metadata": {
        "id": "-49vllXC901S"
      }
    },
    {
      "cell_type": "code",
      "execution_count": 9,
      "metadata": {
        "id": "w1h0GPeh8Pl6"
      },
      "outputs": [],
      "source": [
        "class Dog(): # Defing a class, by conventino we name is in CamelCase.\n",
        "    \"\"\" DOCSTRING: A classes created for aping the real-world dog.\"\"\"\n",
        "\n",
        "    def __init__(self, name, age):\n",
        "        \"\"\"Initalize name and age attributes.\"\"\"\n",
        "        self.name = name\n",
        "        self.age = age\n",
        "\n",
        "    def run(self):\n",
        "        \"\"\"Simulate rolling over in response to a command.\"\"\"\n",
        "        pass\n",
        "\n",
        "    def eat(self):\n",
        "        \"\"\"Simulate a dog sitting in response to a command.\"\"\"\n",
        "        print(self.name.title() + ' is now eating.')\n",
        "\n",
        "    def sit(self):\n",
        "        \"\"\"Simulate rolling over in response to a command.\"\"\"\n",
        "        print(self.name.title() + ' is now sitting.')"
      ]
    },
    {
      "cell_type": "markdown",
      "source": [
        "#### __init__() Method\n",
        "A Function that's part of a class is a *method*. Everything you leared about functions applies to the methods as well; Any method that starts with double underlines __ in python is a special method Python runs these automatically whenever we create a new instances based on the Dog class. These kind of methods are also known as dunder methods and there are meny more of them which are default Python method names preventing conflict. \n",
        "\n",
        "When defining the init() method we have three parameters: self, name, and age. The self parameter is required in the method defintinion, and it must come first. We don't have to worry about self argument, becuase Python will automatically will take care of it. But self can be thought of as a reference to the instance itself.\n",
        "\n",
        "Variables in the init() method all have self as prefix. Any variable with the self is available to every method in the class. So we can use self.name in any class to get or modify it. These variables are known as attributes. \n",
        "\n",
        "On top of init method (which is not necessary but used as a constructor) we have three other methods which are dedicated to running sitting and eating.\n",
        "\n",
        "OK now let's make an instance..."
      ],
      "metadata": {
        "id": "Ik1ufY-rK2GL"
      }
    },
    {
      "cell_type": "code",
      "source": [
        "max = Dog('Max', 2)\n",
        "print('Name of my dog is: ' + max.name)\n",
        "max.name = 'Rocky'\n",
        "print('Name of my dog is: ' + max.name)\n",
        "max.eat()"
      ],
      "metadata": {
        "colab": {
          "base_uri": "https://localhost:8080/"
        },
        "id": "_dzIso-dTI1I",
        "outputId": "ef6d1148-61a9-4a5c-8161-3b0c4a7587e4"
      },
      "execution_count": 7,
      "outputs": [
        {
          "output_type": "stream",
          "name": "stdout",
          "text": [
            "Name of my dog is: Max\n",
            "Name of my dog is: Rocky\n",
            "Rocky is now eating.\n"
          ]
        }
      ]
    },
    {
      "cell_type": "code",
      "source": [
        "# You can create many instances\n",
        "pedro = Dog('Pedro', 6)\n",
        "pedro.sit()\n",
        "pedro.eat()\n",
        "pedro.run() # Nothing..."
      ],
      "metadata": {
        "colab": {
          "base_uri": "https://localhost:8080/"
        },
        "id": "n2QDLEinTSKM",
        "outputId": "49469b75-09de-4bf5-8fe0-0b095d83242f"
      },
      "execution_count": 8,
      "outputs": [
        {
          "output_type": "stream",
          "name": "stdout",
          "text": [
            "Pedro is now sitting.\n",
            "Pedro is now eating.\n"
          ]
        }
      ]
    },
    {
      "cell_type": "markdown",
      "source": [
        "#### Classes and Instances\n",
        "Most of your time will be consumed by working with instances. One of the basics tasks is modifying the attributes associated with a particular instances. You can either modify it directly or write a method to update it in your own way (for example by adding it to db).\n",
        "\n",
        "### Car Class\n",
        "Now let's create a class representing a car. will store information and define behavior. We will have a special attribute for mileage. But every value needs an initial value even if it is 0 or empy string. "
      ],
      "metadata": {
        "id": "PZ-s3cLjURab"
      }
    },
    {
      "cell_type": "code",
      "source": [
        "class Car():\n",
        "    def __init__(self, manufacturer, model, year):\n",
        "        \"\"\"\"Initialize attributes to describe a car.\"\"\"\n",
        "        self.make = manufacturer\n",
        "        self.model = model\n",
        "        self.year = year\n",
        "        self.odometer = 0\n",
        "\n",
        "    def get_description(self):\n",
        "        name = str(self.year) + ' ' + self.make + ' ' + self.model\n",
        "        return name.title()\n",
        "    \n",
        "    def read_mileage(self):\n",
        "        \"\"\"A method for readin the number on odometer.\"\"\"\n",
        "        print('This car has ' + str(self.odometer) + ' kilometers on it.')\n"
      ],
      "metadata": {
        "id": "nxWgD7aoT9Js"
      },
      "execution_count": 14,
      "outputs": []
    },
    {
      "cell_type": "code",
      "source": [
        "beige_car = Car('Mercedes-Benz', '190E', 1987)\n",
        "print(beige_car.get_description())\n",
        "beige_car.read_mileage()"
      ],
      "metadata": {
        "colab": {
          "base_uri": "https://localhost:8080/"
        },
        "id": "eX3hdMpzVYG9",
        "outputId": "a6505e4c-abaa-4f38-e860-c4d00b5fb171"
      },
      "execution_count": 16,
      "outputs": [
        {
          "output_type": "stream",
          "name": "stdout",
          "text": [
            "1987 Mercedes-Benz 190E\n",
            "This car has 0 kilometers on it.\n"
          ]
        }
      ]
    },
    {
      "cell_type": "code",
      "source": [
        "# First way to modify the value.\n",
        "beige_car.odometer = 40\n",
        "beige_car.read_mileage()"
      ],
      "metadata": {
        "colab": {
          "base_uri": "https://localhost:8080/"
        },
        "id": "XmojcJBfWEh0",
        "outputId": "6acabeaf-2e5b-4065-ba80-cb82fd99f072"
      },
      "execution_count": 17,
      "outputs": [
        {
          "output_type": "stream",
          "name": "stdout",
          "text": [
            "This car has 40 kilometers on it.\n"
          ]
        }
      ]
    },
    {
      "cell_type": "code",
      "source": [
        "# Second way to modify a value, by using method.\n",
        "# You might want to do some things while setting a value.\n",
        "\n",
        "\n",
        "    # def update_odometer(self, mileage):\n",
        "    #     \"\"\"Set the odometer readin to the given value. And check for errors\"\"\"\n",
        "    #     if mileage > self.odometer:\n",
        "    #       self.odometer = mileage\n",
        "    #     else:\n",
        "    #       print('You cannot do it.')\n",
        "    #     # maintenance (tires, oil, etc.)\n",
        "    #\n",
        "    # def increment_odometer(self, miles):\n",
        "    #     \"\"\"Method for incrementing the odometer reading but needs conversion.\"\"\"\n",
        "    #     self.odometer += (miles * 1.61)\n",
        "\n",
        "# beige_car.update_odometer(80)\n",
        "# beige_car.read_mileage()\n"
      ],
      "metadata": {
        "id": "w7Gg5BtdZBlh"
      },
      "execution_count": 18,
      "outputs": []
    },
    {
      "cell_type": "code",
      "source": [
        "# But still anyone can do!\n",
        "# beige_car.odometer = 0"
      ],
      "metadata": {
        "id": "vWgwF64nZpmn"
      },
      "execution_count": 19,
      "outputs": []
    },
    {
      "cell_type": "markdown",
      "source": [
        "## Inheritance\n",
        "Classes don't necessarily need to start from the ground up you can use properties and methods from already existing classes. This is called *inheritance*. When one class inherits from its parent it automatically take traits of the super class. Anything new will be written on top of already existing framework.\n",
        "\n",
        "As you can guess when defining a child class you have to not only initialize the new attributes but also ones from the parent class. To do this the init() method has to work with super-class's init() method.\n",
        "\n",
        "Now imagine we define electric car a child class of Car class that we've already defined. We will only have to write out the attributes and behaviors of specific to electric cars."
      ],
      "metadata": {
        "id": "6FRs4aAFcqSp"
      }
    },
    {
      "cell_type": "code",
      "source": [
        "class ElectricCar(Car):\n",
        "    \"\"\"Electrical Vehicles\"\"\"\n",
        "    def __init__(self, make, model, year):\n",
        "        super().__init__(make, model, year) # Super class - sub class\n",
        "    \n",
        "    # No new methods defined.\n",
        "\n",
        "\n",
        "taycan = ElectricCar('Porsche', 'Taycan', 2020)\n",
        "print(taycan.get_description())"
      ],
      "metadata": {
        "colab": {
          "base_uri": "https://localhost:8080/"
        },
        "id": "oggvrsdhappp",
        "outputId": "ad6d17db-e464-40ff-bc19-3e005b6f4c78"
      },
      "execution_count": 21,
      "outputs": [
        {
          "output_type": "stream",
          "name": "stdout",
          "text": [
            "2020 Porsche Taycan\n"
          ]
        }
      ]
    },
    {
      "cell_type": "code",
      "source": [
        "# Now lets define new attributes like battery.\n",
        "\n",
        "class ElectricCar(Car):\n",
        "    \"\"\"Electrical Vehicles\"\"\"\n",
        "    def __init__(self, make, model, year):\n",
        "        super().__init__(make, model, year)\n",
        "        self.battery_size = 70\n",
        "\n",
        "    def describe_battery(self):\n",
        "        print('Capacity of this battry is: '+ str(self.battery_size) + '-kWh')\n",
        "\n",
        "\n",
        "taycan = ElectricCar('Porsche', 'Taycan', 2020)\n",
        "taycan.describe_battery()"
      ],
      "metadata": {
        "colab": {
          "base_uri": "https://localhost:8080/"
        },
        "id": "htUAHIp8fnAb",
        "outputId": "49783bd7-5450-4b13-e438-c1838caa832c"
      },
      "execution_count": 22,
      "outputs": [
        {
          "output_type": "stream",
          "name": "stdout",
          "text": [
            "Capacity of this battry is: 70-kWh\n"
          ]
        }
      ]
    },
    {
      "cell_type": "markdown",
      "source": [
        "### Overriding Methods\n",
        "Another thing you can do is overriding any method that you don't see fit from the super class. For this you need to define a method in the child class using the same name as the method you want to override in the parent class.\n",
        "\n",
        "One good example would be filling, which would mean filling the gas for parent class and charging for child class."
      ],
      "metadata": {
        "id": "CrYQy9L1hJcn"
      }
    },
    {
      "cell_type": "code",
      "source": [
        "class Car():\n",
        "    def __init__(self, manufacturer, model, year):\n",
        "        \"\"\"\"Initialize attributes to describe a car.\"\"\"\n",
        "        self.make = manufacturer\n",
        "        self.model = model\n",
        "        self.year = year\n",
        "        self.odometer = 0\n",
        "\n",
        "    def get_description(self):\n",
        "        name = str(self.year) + ' ' + self.make + ' ' + self.model\n",
        "        return name.title()\n",
        "    \n",
        "    def read_mileage(self):\n",
        "        \"\"\"A method for readin the number on odometer.\"\"\"\n",
        "        print('This car has ' + str(self.odometer) + ' kilometers on it.')\n",
        "\n",
        "    def update_odometer(self, mileage):\n",
        "        \"\"\"Set the odometer readin to the given value. And check for errors\"\"\"\n",
        "        if mileage > self.odometer:\n",
        "          self.odometer = mileage\n",
        "        else:\n",
        "          print('You cannot do it.')\n",
        "        # maintenance (tires, oil, etc.)\n",
        "    \n",
        "    def increment_odometer(self, miles):\n",
        "        \"\"\"Method for incrementing the odometer reading but needs conversion.\"\"\"\n",
        "        self.odometer += (miles * 1.61)\n",
        "\n",
        "    def fill(self):\n",
        "        print('Filling the tank...')\n",
        "    \n",
        "\n",
        "class ElectricCar(Car):\n",
        "    \"\"\"Electrical Vehicles\"\"\"\n",
        "    def __init__(self, make, model, year):\n",
        "        super().__init__(make, model, year)\n",
        "        self.battery_size = 70\n",
        "\n",
        "    def describe_battery(self):\n",
        "        print('Capacity of this battry is: '+ str(self.battery_size) + '-kWh')\n",
        "\n",
        "    def fill(self): # Error in the book.\n",
        "        print(\"No need to fill the tank, just charge it.\")\n",
        "\n",
        "taycan = ElectricCar('Porsche', 'Taycan', 2020)\n",
        "taycan.describe_battery()\n",
        "taycan.fill()"
      ],
      "metadata": {
        "colab": {
          "base_uri": "https://localhost:8080/"
        },
        "id": "4drJvtnkglgE",
        "outputId": "6947e217-2035-44e7-e500-7d6c498e1f2a"
      },
      "execution_count": 26,
      "outputs": [
        {
          "output_type": "stream",
          "name": "stdout",
          "text": [
            "Capacity of this battry is: 70-kWh\n",
            "No need to fill the tank, just charge it.\n"
          ]
        }
      ]
    },
    {
      "cell_type": "markdown",
      "source": [
        "When you find yourself using many attributes and methods specific to something in a class you might want to extract it to a new seperate class and place an instance of it as an attribute in the main class.\n",
        "\n",
        "For example we can extract battery to another class and user as an attribute."
      ],
      "metadata": {
        "id": "1x8ZKouDi4cJ"
      }
    },
    {
      "cell_type": "code",
      "source": [
        "class Battery():\n",
        "\n",
        "    def __init__(self, size=90):\n",
        "        self.size = size\n",
        "    \n",
        "    def get_description(self):\n",
        "        print('Capacity of this battry is: '+ str(self.battery_size) + '-kWh')\n",
        "    \n",
        "    def range(self):\n",
        "        print('Your range is: '+str(self.size * 4) + 'Km.')\n",
        "\n",
        "class ElectricCar(Car):\n",
        "    \"\"\"Electrical Vehicles\"\"\"\n",
        "    def __init__(self, make, model, year):\n",
        "        super().__init__(make, model, year)\n",
        "        self.battery = Battery(70) # Created automatically.\n",
        "\n",
        "    def describe_battery(self):\n",
        "        print('Capacity of this battry is: '+ str(self.battery.size) + '-kWh')\n",
        "\n",
        "    def fill(self): # Error in the book.\n",
        "        print(\"No need to fill the tank, just charge it.\")\n",
        "\n",
        "taycan = ElectricCar('Porsche', 'Taycan', 2020)\n",
        "taycan.describe_battery()\n",
        "taycan.fill()\n",
        "taycan.battery.range()"
      ],
      "metadata": {
        "colab": {
          "base_uri": "https://localhost:8080/"
        },
        "id": "_8h1o4eoig2E",
        "outputId": "51bffbc5-a26e-421e-c69c-0ad683bdcdfa"
      },
      "execution_count": 31,
      "outputs": [
        {
          "output_type": "stream",
          "name": "stdout",
          "text": [
            "Capacity of this battry is: 70-kWh\n",
            "No need to fill the tank, just charge it.\n",
            "Your range is: 280Km.\n"
          ]
        }
      ]
    },
    {
      "cell_type": "markdown",
      "source": [
        "### Does get range belong to car or battery? \n",
        "If we’re only describing one car, it’s probably \n",
        "fine to maintain the association of the method get_range() with the Battery\n",
        "class. But if we’re describing a manufacturer’s entire line of cars, we proba-\n",
        "bly want to move get_range() to the ElectricCar class. The get_range() method would still check the battery size before determining the range, but it would \n",
        "report a range specific to the kind of car it’s associated with. Alternatively, \n",
        "we could maintain the association of the get_range() method with the bat-\n",
        "tery but pass it a parameter such as car_model. The get_range() method would \n",
        "then report a range based on the battery size and car model.\n",
        "\n",
        "When you wrestle with questions like these, you’re thinking at a higher \n",
        "logical level rather than a syntax-focused level. You’re thinking not about \n",
        "Python, but about how to represent the real world in code. When you reach \n",
        "this point, you’ll realize there are often no right or wrong approaches to \n",
        "modeling real-world situations. Some approaches are more efficient than \n",
        "others, but it takes practice to find the most efficient representations. If \n",
        "your code is working as you want it to, you’re doing well! Don’t be discour-\n",
        "aged if you find you’re ripping apart your classes and rewriting them several \n",
        "times using different approaches. In the quest to write accurate, efficient \n",
        "code, everyone goes through this process."
      ],
      "metadata": {
        "id": "oVSwgeLQpDp2"
      }
    },
    {
      "cell_type": "markdown",
      "source": [
        "# Python Standard Library\n",
        "The Python Standard Library is a set of modules included with every Python installation. Now that you know how classes work, you can start to use modules like these that has been written by other programmers for you [Steve Jobs Talk On Classes and Sharin Code, MIT 1992](https://www.google.com/url?sa=t&rct=j&q=&esrc=s&source=web&cd=&cad=rja&uact=8&ved=2ahUKEwjh4JaJ-uP-AhXmUqQEHSftCc4QtwJ6BAgKEAI&url=https%3A%2F%2Fwww.youtube.com%2Fwatch%3Fv%3DGk-9Fd2mEnI&usg=AOvVaw2oooC1DSVoKzWP8h8z66EU) You can use any function or class that you like by importing on top of your file. For example OrderedDict from collections. We use this because dicstionaries don't come ordered out of the box. "
      ],
      "metadata": {
        "id": "W3QoDJVstW2e"
      }
    },
    {
      "cell_type": "code",
      "source": [
        "from collections import OrderedDict\n",
        "\n",
        "favorite_languages = OrderedDict()\n",
        "\n",
        "favorite_languages['jen'] = 'python'\n",
        "favorite_languages['sarah'] = 'c'\n",
        "favorite_languages['edward'] = 'ruby'\n",
        "favorite_languages['phil'] = 'python'\n",
        "\n",
        "for name, language in favorite_languages.items():\n",
        "    print(name.title() + \"'s favorite language is \" +\n",
        "          language.title() + \".\")"
      ],
      "metadata": {
        "colab": {
          "base_uri": "https://localhost:8080/"
        },
        "id": "2MBqGi9ztYS7",
        "outputId": "25c7920d-6490-4113-ff04-d783a23efb2e"
      },
      "execution_count": 32,
      "outputs": [
        {
          "output_type": "stream",
          "name": "stdout",
          "text": [
            "Jen's favorite language is Python.\n",
            "Sarah's favorite language is C.\n",
            "Edward's favorite language is Ruby.\n",
            "Phil's favorite language is Python.\n"
          ]
        }
      ]
    },
    {
      "cell_type": "markdown",
      "source": [
        "## Importing Classes in VS CODE\n",
        "## Styling of Classes p186\n",
        "# Exercise\n",
        "Make a class called User. With five attributes first, last name, ssn, birthyear, and status. After that write a class for adminstrator which is a special kind of user. This class inherits from User, add an attribute privileges that stores a list of permissions like (\"can add member\", \"can post\", \"can ban\") Create instances for both users and admin.\n",
        "\n",
        "# Numpy\n",
        "NumPy, short for Numerical Python, has long been a cornerstone of numerical computing in Python. It provides the data structures, algorithms, and library glue needed for most scientific applications involving numerical data in Python. NumPy contains, among other things:\n",
        "* A fast and efficient multidimensional array object **ndarray**\n",
        "* Functions for performing element-wise computations with arrays or mathematical operations between arrays\n",
        "* Tools for reading and writing array-based datasets to disk\n",
        "* Linear algebra operations, Fourier transform, and random number generation\n",
        "* A mature C API to enable Python extensions and native C or C++ code to access NumPy’s data structures and computational facilities.\n",
        "\n",
        "Beyond the fast array-processing capabilities that NumPy adds to Python, one of\n",
        "its primary uses in data analysis is as a container for data to be passed between algorithms and libraries. For numerical data, NumPy arrays are more efficient for storing and manipulating data than the other built-in Python data structures. Also, libraries written in a lower-level language, such as C or FORTRAN, can operate on the data stored in a NumPy array without copying data into some other memory representation. Thus, many numerical computing tools for Python either assume NumPy arrays as a primary data structure or else target interoperability with NumPy. Why Numpy is more efficient larger arrays?\n",
        "* NumPy internally stores data in a contiguous block of memory, independent of\n",
        "other built-in Python objects. NumPy’s library of algorithms written in the C language can operate on this memory without any type checking or other overhead. NumPy arrays also use much less memory than built-in Python sequences.\n",
        "* NumPy operations perform complex computations on entire arrays without the\n",
        "need for Python for loops, which can be slow for large sequences. NumPy is faster than regular Python code because its C-based algorithms avoid overhead present with regular interpreted Python code. (Vectorization)\n",
        "\n",
        "To get the idead of difference of performance between Python and Numpy we use array of one million integers:"
      ],
      "metadata": {
        "id": "Bi9yPe2zpkJ4"
      }
    },
    {
      "cell_type": "code",
      "source": [
        "import numpy as np\n",
        "my_arr = np.arange(1_000_000)\n",
        "my_list = list(range(1_000_000))"
      ],
      "metadata": {
        "id": "HzruQ7gC7HnC"
      },
      "execution_count": 33,
      "outputs": []
    },
    {
      "cell_type": "code",
      "source": [
        "# Let time multiplying them by 2\n",
        "%timeit my_arr_double = my_arr * 2"
      ],
      "metadata": {
        "colab": {
          "base_uri": "https://localhost:8080/"
        },
        "id": "thBoJ2Ob7h4y",
        "outputId": "886172db-ccd9-4daa-b242-0904f17beed5"
      },
      "execution_count": 34,
      "outputs": [
        {
          "output_type": "stream",
          "name": "stdout",
          "text": [
            "989 µs ± 145 µs per loop (mean ± std. dev. of 7 runs, 1000 loops each)\n"
          ]
        }
      ]
    },
    {
      "cell_type": "code",
      "source": [
        "%timeit my_list_double = [x * 2 for x in my_list]"
      ],
      "metadata": {
        "colab": {
          "base_uri": "https://localhost:8080/"
        },
        "id": "8v6Zow4j7p97",
        "outputId": "d2ec36c1-2cbc-48d5-edb6-e5357ce9ba51"
      },
      "execution_count": 35,
      "outputs": [
        {
          "output_type": "stream",
          "name": "stdout",
          "text": [
            "83.5 ms ± 21.4 ms per loop (mean ± std. dev. of 7 runs, 10 loops each)\n"
          ]
        }
      ]
    },
    {
      "cell_type": "markdown",
      "source": [
        "One of the key features of NumPy is its N-Dimensional array objects, or **ndarray**, which is fast, flexiable container for large dataset in Python. Arrays enable us to perform mathematical operations on whole blocks of data using similar syntax to the equivalent operations between scalar elements.\n",
        "\n",
        "Let's create a small array and do batch operations."
      ],
      "metadata": {
        "id": "umPWu-4979-m"
      }
    },
    {
      "cell_type": "code",
      "source": [
        "data = np.array([[1.5, -0.1, 3],[0, -3, 6.5]])\n",
        "data"
      ],
      "metadata": {
        "colab": {
          "base_uri": "https://localhost:8080/"
        },
        "id": "Q8rd06YD7vg9",
        "outputId": "5929fb6b-807e-4cc3-b988-f6ee69df6548"
      },
      "execution_count": 36,
      "outputs": [
        {
          "output_type": "execute_result",
          "data": {
            "text/plain": [
              "array([[ 1.5, -0.1,  3. ],\n",
              "       [ 0. , -3. ,  6.5]])"
            ]
          },
          "metadata": {},
          "execution_count": 36
        }
      ]
    },
    {
      "cell_type": "code",
      "source": [
        "# You can do any kind of mathematical operations on ndarray.\n",
        "data * 10"
      ],
      "metadata": {
        "colab": {
          "base_uri": "https://localhost:8080/"
        },
        "id": "k_x6NGbN8raF",
        "outputId": "9334c2e6-eb64-46b0-9038-4e693be9361d"
      },
      "execution_count": 37,
      "outputs": [
        {
          "output_type": "execute_result",
          "data": {
            "text/plain": [
              "array([[ 15.,  -1.,  30.],\n",
              "       [  0., -30.,  65.]])"
            ]
          },
          "metadata": {},
          "execution_count": 37
        }
      ]
    },
    {
      "cell_type": "code",
      "source": [
        "data + data"
      ],
      "metadata": {
        "colab": {
          "base_uri": "https://localhost:8080/"
        },
        "id": "Dy-rU3Tv822E",
        "outputId": "15d28bad-5e5a-4f8b-8f08-fd5a7f817931"
      },
      "execution_count": 38,
      "outputs": [
        {
          "output_type": "execute_result",
          "data": {
            "text/plain": [
              "array([[ 3. , -0.2,  6. ],\n",
              "       [ 0. , -6. , 13. ]])"
            ]
          },
          "metadata": {},
          "execution_count": 38
        }
      ]
    },
    {
      "cell_type": "markdown",
      "source": [
        "Ndarrays are multidimensional homogeneous container for data, which means all of the elements should be of the same type. Every array has a **shape** property which is a tuple indicating the size of each dimentions and **dtype** that describes data type of array."
      ],
      "metadata": {
        "id": "rAeZFcl38-DH"
      }
    },
    {
      "cell_type": "code",
      "source": [
        "data.shape"
      ],
      "metadata": {
        "colab": {
          "base_uri": "https://localhost:8080/"
        },
        "id": "HEXOeGAy85iB",
        "outputId": "903ebb70-ae60-4063-9614-23e6a5ce2a3c"
      },
      "execution_count": 39,
      "outputs": [
        {
          "output_type": "execute_result",
          "data": {
            "text/plain": [
              "(2, 3)"
            ]
          },
          "metadata": {},
          "execution_count": 39
        }
      ]
    },
    {
      "cell_type": "code",
      "source": [
        "data.dtype"
      ],
      "metadata": {
        "colab": {
          "base_uri": "https://localhost:8080/"
        },
        "id": "DR5ZGV_c9cMm",
        "outputId": "46104a29-d9f6-4d29-ad89-3cf2e3e11e62"
      },
      "execution_count": 40,
      "outputs": [
        {
          "output_type": "execute_result",
          "data": {
            "text/plain": [
              "dtype('float64')"
            ]
          },
          "metadata": {},
          "execution_count": 40
        }
      ]
    },
    {
      "cell_type": "code",
      "source": [
        "# array, ndarray and NumPy array are the same."
      ],
      "metadata": {
        "id": "w6oiuKRU9dHJ"
      },
      "execution_count": null,
      "outputs": []
    }
  ]
}
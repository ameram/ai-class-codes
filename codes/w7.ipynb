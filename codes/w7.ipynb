{
  "nbformat": 4,
  "nbformat_minor": 0,
  "metadata": {
    "colab": {
      "provenance": []
    },
    "kernelspec": {
      "name": "python3",
      "display_name": "Python 3"
    },
    "language_info": {
      "name": "python"
    }
  },
  "cells": [
    {
      "cell_type": "markdown",
      "source": [
        "# Python for AI\n",
        "## Week 7 - 5/15/23\n",
        "\n",
        "## Topics\n",
        "* ~~Data Structures~~\n",
        "  * ~~Lists~~\n",
        "  * ~~Tuples~~\n",
        "  * ~~Dictionaries~~\n",
        "  * ~~Sets~~\n",
        "* ~~Functions~~\n",
        "  * ~~Arguments~~\n",
        "  * ~~Returning Values~~\n",
        "* ~~Libraries~~\n",
        "  * ~~Modules~~\n",
        "* ~~Object Oriented Programming in Python~~\n",
        "* **Numpy**\n"
      ],
      "metadata": {
        "id": "-49vllXC901S"
      }
    },
    {
      "cell_type": "markdown",
      "source": [
        "# Numpy\n",
        "NumPy, short for Numerical Python, has long been a cornerstone of numerical computing in Python. It provides the data structures, algorithms, and library glue needed for most scientific applications involving numerical data in Python. NumPy contains, among other things:\n",
        "* A fast and efficient multidimensional array object **ndarray**\n",
        "* Functions for performing element-wise computations with arrays or mathematical operations between arrays\n",
        "* Tools for reading and writing array-based datasets to disk\n",
        "* Linear algebra operations, Fourier transform, and random number generation\n",
        "* A mature C API to enable Python extensions and native C or C++ code to access NumPy’s data structures and computational facilities.\n",
        "\n",
        "Beyond the fast array-processing capabilities that NumPy adds to Python, one of\n",
        "its primary uses in data analysis is as a container for data to be passed between algorithms and libraries. For numerical data, NumPy arrays are more efficient for storing and manipulating data than the other built-in Python data structures. Also, libraries written in a lower-level language, such as C or FORTRAN, can operate on the data stored in a NumPy array without copying data into some other memory representation. Thus, many numerical computing tools for Python either assume NumPy arrays as a primary data structure or else target interoperability with NumPy. Why Numpy is more efficient larger arrays?\n",
        "* NumPy internally stores data in a contiguous block of memory, independent of\n",
        "other built-in Python objects. NumPy’s library of algorithms written in the C language can operate on this memory without any type checking or other overhead. NumPy arrays also use much less memory than built-in Python sequences.\n",
        "* NumPy operations perform complex computations on entire arrays without the\n",
        "need for Python for loops, which can be slow for large sequences. NumPy is faster than regular Python code because its C-based algorithms avoid overhead present with regular interpreted Python code. (Vectorization)\n",
        "\n",
        "To get the idea of difference of performance between Python and Numpy we use array of one million integers:"
      ],
      "metadata": {
        "id": "Bi9yPe2zpkJ4"
      }
    },
    {
      "cell_type": "code",
      "source": [
        "import numpy as np\n",
        "my_arr = np.arange(1_000_000)\n",
        "my_list = list(range(1_000_000))"
      ],
      "metadata": {
        "id": "HzruQ7gC7HnC"
      },
      "execution_count": null,
      "outputs": []
    },
    {
      "cell_type": "markdown",
      "source": [
        "We use magic function to measure the time\n",
        "[Magic Functions](https://ipython.readthedocs.io/en/stable/interactive/tutorial.html#magics-explained)."
      ],
      "metadata": {
        "id": "h7KYH0Dxi_Qs"
      }
    },
    {
      "cell_type": "code",
      "source": [
        "# Let time multiplying them by 2\n",
        "%timeit my_arr_double = my_arr * 2"
      ],
      "metadata": {
        "colab": {
          "base_uri": "https://localhost:8080/"
        },
        "id": "thBoJ2Ob7h4y",
        "outputId": "7d2603c5-82c8-4fe5-f9f8-35e3adcd2792"
      },
      "execution_count": null,
      "outputs": [
        {
          "output_type": "stream",
          "name": "stdout",
          "text": [
            "1.36 ms ± 105 µs per loop (mean ± std. dev. of 7 runs, 1000 loops each)\n"
          ]
        }
      ]
    },
    {
      "cell_type": "code",
      "source": [
        "%timeit my_list_double = [x * 2 for x in my_list]"
      ],
      "metadata": {
        "colab": {
          "base_uri": "https://localhost:8080/"
        },
        "id": "8v6Zow4j7p97",
        "outputId": "e9776362-129d-400d-e87c-68b09045a022"
      },
      "execution_count": null,
      "outputs": [
        {
          "output_type": "stream",
          "name": "stdout",
          "text": [
            "69.2 ms ± 1.47 ms per loop (mean ± std. dev. of 7 runs, 10 loops each)\n"
          ]
        }
      ]
    },
    {
      "cell_type": "markdown",
      "source": [
        "One of the key features of NumPy is its N-Dimensional array objects, or **ndarray**, which is fast, flexiable container for large dataset in Python. Arrays enable us to perform mathematical operations on whole blocks of data using similar syntax to the equivalent operations between scalar elements.\n",
        "\n",
        "Let's create a small array and do batch operations."
      ],
      "metadata": {
        "id": "umPWu-4979-m"
      }
    },
    {
      "cell_type": "code",
      "source": [
        "data = np.array([[1.5, -0.1, 3],[0, -3, 6.5]])\n",
        "data"
      ],
      "metadata": {
        "colab": {
          "base_uri": "https://localhost:8080/"
        },
        "id": "Q8rd06YD7vg9",
        "outputId": "d0fca8aa-c416-40ce-ec7f-f3422a59b379"
      },
      "execution_count": null,
      "outputs": [
        {
          "output_type": "execute_result",
          "data": {
            "text/plain": [
              "array([[ 1.5, -0.1,  3. ],\n",
              "       [ 0. , -3. ,  6.5]])"
            ]
          },
          "metadata": {},
          "execution_count": 6
        }
      ]
    },
    {
      "cell_type": "code",
      "source": [
        "# You can do any kind of mathematical operations on ndarray.\n",
        "data * 10"
      ],
      "metadata": {
        "colab": {
          "base_uri": "https://localhost:8080/"
        },
        "id": "k_x6NGbN8raF",
        "outputId": "ce23ee47-13c9-4085-b938-7455a44875aa"
      },
      "execution_count": null,
      "outputs": [
        {
          "output_type": "execute_result",
          "data": {
            "text/plain": [
              "array([[ 15.,  -1.,  30.],\n",
              "       [  0., -30.,  65.]])"
            ]
          },
          "metadata": {},
          "execution_count": 7
        }
      ]
    },
    {
      "cell_type": "code",
      "source": [
        "data + data"
      ],
      "metadata": {
        "colab": {
          "base_uri": "https://localhost:8080/"
        },
        "id": "Dy-rU3Tv822E",
        "outputId": "6aa19ecd-2865-4f37-bfd1-53121cf9e92a"
      },
      "execution_count": null,
      "outputs": [
        {
          "output_type": "execute_result",
          "data": {
            "text/plain": [
              "array([[ 3. , -0.2,  6. ],\n",
              "       [ 0. , -6. , 13. ]])"
            ]
          },
          "metadata": {},
          "execution_count": 8
        }
      ]
    },
    {
      "cell_type": "markdown",
      "source": [
        "Ndarrays are multidimensional homogeneous container for data, which means all of the elements should be of the same type. Every array has a **shape** property which is a tuple indicating the size of each dimentions and **dtype** that describes data type of array."
      ],
      "metadata": {
        "id": "rAeZFcl38-DH"
      }
    },
    {
      "cell_type": "code",
      "source": [
        "data.shape"
      ],
      "metadata": {
        "colab": {
          "base_uri": "https://localhost:8080/"
        },
        "id": "HEXOeGAy85iB",
        "outputId": "3e2b1fd6-0627-4768-e928-397bee3a0569"
      },
      "execution_count": null,
      "outputs": [
        {
          "output_type": "execute_result",
          "data": {
            "text/plain": [
              "(2, 3)"
            ]
          },
          "metadata": {},
          "execution_count": 9
        }
      ]
    },
    {
      "cell_type": "code",
      "source": [
        "data.dtype"
      ],
      "metadata": {
        "colab": {
          "base_uri": "https://localhost:8080/"
        },
        "id": "DR5ZGV_c9cMm",
        "outputId": "46104a29-d9f6-4d29-ad89-3cf2e3e11e62"
      },
      "execution_count": null,
      "outputs": [
        {
          "output_type": "execute_result",
          "data": {
            "text/plain": [
              "dtype('float64')"
            ]
          },
          "metadata": {},
          "execution_count": 40
        }
      ]
    },
    {
      "cell_type": "code",
      "source": [
        "# array, ndarray and NumPy array are the same."
      ],
      "metadata": {
        "id": "w6oiuKRU9dHJ"
      },
      "execution_count": null,
      "outputs": []
    },
    {
      "cell_type": "markdown",
      "source": [
        "## Creating ndarrays\n",
        "\n",
        "The easiest way to create an array is jusing the array functions. This accepts any sequence like objects and produces a new NumPy array containing the passed data. For example we can create using a list."
      ],
      "metadata": {
        "id": "E4-KsmtCj7iz"
      }
    },
    {
      "cell_type": "code",
      "source": [
        "grades = [3, 4, 3, 2, 4]\n",
        "np_arr_grades = np.array(grades)\n",
        "np_arr_grades"
      ],
      "metadata": {
        "colab": {
          "base_uri": "https://localhost:8080/"
        },
        "id": "uAuY9vRMkehT",
        "outputId": "f29f9c49-3750-4dc3-d6b7-81689b6878d1"
      },
      "execution_count": null,
      "outputs": [
        {
          "output_type": "execute_result",
          "data": {
            "text/plain": [
              "array([3, 4, 3, 2, 4])"
            ]
          },
          "metadata": {},
          "execution_count": 3
        }
      ]
    },
    {
      "cell_type": "code",
      "source": [
        "list_of_colors = [[122, 13, 250], [200, 29, 0], [0, 0, 0]]\n",
        "arr_colors = np.array(list_of_colors)\n",
        "arr_colors\n",
        "\n",
        "# What happens when we remove one element?"
      ],
      "metadata": {
        "colab": {
          "base_uri": "https://localhost:8080/"
        },
        "id": "c_9PIsFukuAj",
        "outputId": "03a78aab-797f-4ce4-f160-7e78e82c6150"
      },
      "execution_count": null,
      "outputs": [
        {
          "output_type": "execute_result",
          "data": {
            "text/plain": [
              "array([[122,  13, 250],\n",
              "       [200,  29,   0],\n",
              "       [  0,   0,   0]])"
            ]
          },
          "metadata": {},
          "execution_count": 6
        }
      ]
    },
    {
      "cell_type": "code",
      "source": [
        "# Info about colors array\n",
        "print(arr_colors.ndim)\n",
        "print(arr_colors.shape)"
      ],
      "metadata": {
        "colab": {
          "base_uri": "https://localhost:8080/"
        },
        "id": "yJmOgdAilJYd",
        "outputId": "9bee66a3-a80a-4c4a-8bdf-ea0e8c7009d6"
      },
      "execution_count": null,
      "outputs": [
        {
          "output_type": "stream",
          "name": "stdout",
          "text": [
            "2\n",
            "(3, 3)\n"
          ]
        }
      ]
    },
    {
      "cell_type": "code",
      "source": [
        "# We don't have to tell the NumPy which data type the array needs.\n",
        "# NumPy can infer it.\n",
        "\n",
        "print(np_arr_grades.dtype)\n",
        "print(arr_colors.dtype)"
      ],
      "metadata": {
        "colab": {
          "base_uri": "https://localhost:8080/"
        },
        "id": "eNwAX-rtlYBI",
        "outputId": "4da2b882-b1b1-4332-e45a-cd0f3fe0288c"
      },
      "execution_count": null,
      "outputs": [
        {
          "output_type": "stream",
          "name": "stdout",
          "text": [
            "int64\n",
            "int64\n"
          ]
        }
      ]
    },
    {
      "cell_type": "markdown",
      "source": [
        "There are also other ways to create arrays, for instance `numpy.zero` and `numpy.ones` to create arrays of 0s and 1s respectively, with a given length or shape."
      ],
      "metadata": {
        "id": "idvAotJhnNOl"
      }
    },
    {
      "cell_type": "code",
      "source": [
        "np.zeros(10)"
      ],
      "metadata": {
        "colab": {
          "base_uri": "https://localhost:8080/"
        },
        "id": "ppdL12Ftnc4q",
        "outputId": "f69fbe8d-0466-478b-ddfd-e1676505c102"
      },
      "execution_count": null,
      "outputs": [
        {
          "output_type": "execute_result",
          "data": {
            "text/plain": [
              "array([0., 0., 0., 0., 0., 0., 0., 0., 0., 0.])"
            ]
          },
          "metadata": {},
          "execution_count": 12
        }
      ]
    },
    {
      "cell_type": "code",
      "source": [
        "np.ones((10, 2))"
      ],
      "metadata": {
        "colab": {
          "base_uri": "https://localhost:8080/"
        },
        "id": "bEIba_yuneaZ",
        "outputId": "e7ac81fc-8757-4f54-93cb-38d984e05ccf"
      },
      "execution_count": null,
      "outputs": [
        {
          "output_type": "execute_result",
          "data": {
            "text/plain": [
              "array([[1., 1.],\n",
              "       [1., 1.],\n",
              "       [1., 1.],\n",
              "       [1., 1.],\n",
              "       [1., 1.],\n",
              "       [1., 1.],\n",
              "       [1., 1.],\n",
              "       [1., 1.],\n",
              "       [1., 1.],\n",
              "       [1., 1.]])"
            ]
          },
          "metadata": {},
          "execution_count": 13
        }
      ]
    },
    {
      "cell_type": "code",
      "source": [
        "np.ones_like(arr)"
      ],
      "metadata": {
        "colab": {
          "base_uri": "https://localhost:8080/"
        },
        "id": "UHeHn0LyngW5",
        "outputId": "484f783d-b928-4822-b2dc-23ff6df7224c"
      },
      "execution_count": null,
      "outputs": [
        {
          "output_type": "execute_result",
          "data": {
            "text/plain": [
              "array([[1., 1., 1.],\n",
              "       [1., 1., 1.],\n",
              "       [1., 1., 1.]], dtype=float32)"
            ]
          },
          "metadata": {},
          "execution_count": 16
        }
      ]
    },
    {
      "cell_type": "markdown",
      "source": [
        "There is also `numpy.arange` function that works like Python range function:"
      ],
      "metadata": {
        "id": "SDWNyuVmn2MP"
      }
    },
    {
      "cell_type": "code",
      "source": [
        "np.arange(5, 25) # == [range(5, 25)]"
      ],
      "metadata": {
        "colab": {
          "base_uri": "https://localhost:8080/"
        },
        "id": "Iih-COnCnmGp",
        "outputId": "2bd54a7d-a907-442e-a555-6e6b87affba5"
      },
      "execution_count": null,
      "outputs": [
        {
          "output_type": "execute_result",
          "data": {
            "text/plain": [
              "array([ 5,  6,  7,  8,  9, 10, 11, 12, 13, 14, 15, 16, 17, 18, 19, 20, 21,\n",
              "       22, 23, 24])"
            ]
          },
          "metadata": {},
          "execution_count": 19
        }
      ]
    },
    {
      "cell_type": "code",
      "source": [
        "print(np.full((3, 4), 9))\n",
        "# Same as\n",
        "print(np.ones((3, 4)) * 9)\n",
        "print(((np.full((3, 4), 9)) == (np.ones((3, 4)) * 9)).all())"
      ],
      "metadata": {
        "colab": {
          "base_uri": "https://localhost:8080/"
        },
        "id": "5ZDURXxwp6QW",
        "outputId": "1a2500b4-2b5e-47a2-ed4e-367a1fa70bfa"
      },
      "execution_count": null,
      "outputs": [
        {
          "output_type": "stream",
          "name": "stdout",
          "text": [
            "[[9 9 9 9]\n",
            " [9 9 9 9]\n",
            " [9 9 9 9]]\n",
            "[[9. 9. 9. 9.]\n",
            " [9. 9. 9. 9.]\n",
            " [9. 9. 9. 9.]]\n",
            "True\n"
          ]
        }
      ]
    },
    {
      "cell_type": "markdown",
      "source": [
        "Here are all of the functions used to create a list in NumPy\n",
        "* array: input to ndarray\n",
        "* asarray: converts input to ndarray\n",
        "* arange: like the built-in range but returns ndarray\n",
        "* ones, ones_like: give array of 1s\n",
        "* zeros, zeros_like: produces a list of zeros\n",
        "* empty, empty_like: allocates memory, with no value.\n",
        "* full, full_like: produce an array of the given shape and dtype and set to fill value\n",
        "* eye, identity: creates NxN identity matrix\n",
        "\n",
        "## Data Type for ndarrays\n",
        "The data type or dtype is a special object containing the information that the ndarray need to interpret a chunk of memory as a particular type of data."
      ],
      "metadata": {
        "id": "4GvufsheokgS"
      }
    },
    {
      "cell_type": "code",
      "source": [
        "arr_one = np.array([1, 2, 3], dtype=np.float64)\n",
        "arr_two = np.array([1, 2, 3], dtype=np.int32)\n",
        "print((arr_one == arr_two).all())\n",
        "print(np.array_equal(arr_one, arr_two))"
      ],
      "metadata": {
        "colab": {
          "base_uri": "https://localhost:8080/"
        },
        "id": "yYQPluPOpvD9",
        "outputId": "3c162be5-ec72-4d88-de0e-dfff355ea92b"
      },
      "execution_count": null,
      "outputs": [
        {
          "output_type": "stream",
          "name": "stdout",
          "text": [
            "True\n",
            "True\n"
          ]
        }
      ]
    },
    {
      "cell_type": "code",
      "source": [
        "# some of the NumPy data types\n",
        "\n",
        "# numpy.bool_,    bool\n",
        "# numpy.byte,     signed char\n",
        "# numpy.ubyte,    unsigned char\n",
        "# numpy.short,    short\n",
        "# numpy.ushort,   unsigned short\n",
        "# numpy.intc,     int\n",
        "# numpy.single,   float\n",
        "# numpy.double,   double\n",
        "# numpy.comples,  complex numbers\n",
        "\n",
        "# more can be found at\n",
        "# https://numpy.org/doc/stable/user/basics.types.html"
      ],
      "metadata": {
        "id": "IKHQQi9ArDIb"
      },
      "execution_count": null,
      "outputs": []
    },
    {
      "cell_type": "markdown",
      "source": [
        "We can cast and convert an array from one data type to the other using `np.astype()`"
      ],
      "metadata": {
        "id": "q-SLmU4xrmRv"
      }
    },
    {
      "cell_type": "code",
      "source": [
        "arr = np.array([1, 2, 3])\n",
        "print(arr.dtype)\n",
        "arr = arr.astype('float32')\n",
        "print(arr.dtype)"
      ],
      "metadata": {
        "colab": {
          "base_uri": "https://localhost:8080/"
        },
        "id": "2Lhmf8JyreeI",
        "outputId": "0e4a4f11-f282-4162-d60c-9aa6093a9217"
      },
      "execution_count": null,
      "outputs": [
        {
          "output_type": "stream",
          "name": "stdout",
          "text": [
            "int64\n",
            "float32\n"
          ]
        }
      ]
    },
    {
      "cell_type": "code",
      "source": [
        "# You can even turn string to float\n",
        "num_str_arr = np.array(['12', '-43', '138.9'], dtype=np.string_)\n",
        "num_str_arr.astype(float)"
      ],
      "metadata": {
        "colab": {
          "base_uri": "https://localhost:8080/"
        },
        "id": "usb6s2tnr582",
        "outputId": "e8bfc8f4-1dd9-4834-c4b5-4da3a42c204a"
      },
      "execution_count": null,
      "outputs": [
        {
          "output_type": "execute_result",
          "data": {
            "text/plain": [
              "array([ 12. , -43. , 138.9])"
            ]
          },
          "metadata": {},
          "execution_count": 36
        }
      ]
    },
    {
      "cell_type": "markdown",
      "source": [
        "## Arithmatic with NumPy Arrays\n",
        "Arrays are imporant because they enable us to express batch operations on data without writing any kind of loop. NumPy users call this **vectorization**. Any arithmatic operatinos between equal-size arrays apply the operation element-wise."
      ],
      "metadata": {
        "id": "kwBSFCb0xBVZ"
      }
    },
    {
      "cell_type": "code",
      "source": [
        "arr = np.array([[1., 2., 3.], [4., 5., 6.]])\n",
        "arr"
      ],
      "metadata": {
        "colab": {
          "base_uri": "https://localhost:8080/"
        },
        "id": "8etXWVmjtQKy",
        "outputId": "4df47c32-ee3d-4e33-cf2e-5a60ec91376e"
      },
      "execution_count": null,
      "outputs": [
        {
          "output_type": "execute_result",
          "data": {
            "text/plain": [
              "array([[1., 2., 3.],\n",
              "       [4., 5., 6.]])"
            ]
          },
          "metadata": {},
          "execution_count": 37
        }
      ]
    },
    {
      "cell_type": "code",
      "source": [
        "arr * arr"
      ],
      "metadata": {
        "colab": {
          "base_uri": "https://localhost:8080/"
        },
        "id": "qDasC_kExer_",
        "outputId": "b5cef97b-6a9a-4493-e2c1-0e07961e6f06"
      },
      "execution_count": null,
      "outputs": [
        {
          "output_type": "execute_result",
          "data": {
            "text/plain": [
              "array([[ 1.,  4.,  9.],\n",
              "       [16., 25., 36.]])"
            ]
          },
          "metadata": {},
          "execution_count": 38
        }
      ]
    },
    {
      "cell_type": "code",
      "source": [
        "arr - arr"
      ],
      "metadata": {
        "colab": {
          "base_uri": "https://localhost:8080/"
        },
        "id": "7-wpNYPNxgrg",
        "outputId": "618e93fc-0e7a-45ef-f5d3-a1c09e73ef98"
      },
      "execution_count": null,
      "outputs": [
        {
          "output_type": "execute_result",
          "data": {
            "text/plain": [
              "array([[0., 0., 0.],\n",
              "       [0., 0., 0.]])"
            ]
          },
          "metadata": {},
          "execution_count": 39
        }
      ]
    },
    {
      "cell_type": "code",
      "source": [
        "1 / arr"
      ],
      "metadata": {
        "colab": {
          "base_uri": "https://localhost:8080/"
        },
        "id": "1bGRU0yAxgBZ",
        "outputId": "7f7dc49e-c234-4a29-c7b9-96694a2bf767"
      },
      "execution_count": null,
      "outputs": [
        {
          "output_type": "execute_result",
          "data": {
            "text/plain": [
              "array([[1.        , 0.5       , 0.33333333],\n",
              "       [0.25      , 0.2       , 0.16666667]])"
            ]
          },
          "metadata": {},
          "execution_count": 40
        }
      ]
    },
    {
      "cell_type": "code",
      "source": [
        "arr ** 2"
      ],
      "metadata": {
        "colab": {
          "base_uri": "https://localhost:8080/"
        },
        "id": "S01WdjgexkHv",
        "outputId": "7ef17be7-4271-46bd-c4a1-34cc19c95d8f"
      },
      "execution_count": null,
      "outputs": [
        {
          "output_type": "execute_result",
          "data": {
            "text/plain": [
              "array([[ 1.,  4.,  9.],\n",
              "       [16., 25., 36.]])"
            ]
          },
          "metadata": {},
          "execution_count": 41
        }
      ]
    },
    {
      "cell_type": "code",
      "source": [
        "# and you can compare\n",
        "arr2 = np.array([[0., 4., 1.], [7., 2., 12.]])\n",
        "arr2"
      ],
      "metadata": {
        "colab": {
          "base_uri": "https://localhost:8080/"
        },
        "id": "90spBI69xl13",
        "outputId": "a4140ff0-fbd3-4400-bee6-574879176781"
      },
      "execution_count": null,
      "outputs": [
        {
          "output_type": "execute_result",
          "data": {
            "text/plain": [
              "array([[ 0.,  4.,  1.],\n",
              "       [ 7.,  2., 12.]])"
            ]
          },
          "metadata": {},
          "execution_count": 42
        }
      ]
    },
    {
      "cell_type": "code",
      "source": [
        "arr2 > arr"
      ],
      "metadata": {
        "colab": {
          "base_uri": "https://localhost:8080/"
        },
        "id": "G0d3fHOZx1BO",
        "outputId": "5fdf7aae-1d23-4ad2-c76b-bb1dfae1a3d8"
      },
      "execution_count": null,
      "outputs": [
        {
          "output_type": "execute_result",
          "data": {
            "text/plain": [
              "array([[False,  True, False],\n",
              "       [ True, False,  True]])"
            ]
          },
          "metadata": {},
          "execution_count": 44
        }
      ]
    },
    {
      "cell_type": "markdown",
      "source": [
        "Evaluating operations between differently sized arrays is called broadcasting."
      ],
      "metadata": {
        "id": "0cUsGtaRyDGO"
      }
    },
    {
      "cell_type": "markdown",
      "source": [
        "## Basic Indexing and Slicing\n",
        "NumPy array indexing is a deep topic, as there are many ways you may want to select a subset of your data or individual elements. In the case of one dimentional array we can act just like normal vanilla python."
      ],
      "metadata": {
        "id": "JlP8zfqNyKrz"
      }
    },
    {
      "cell_type": "code",
      "source": [
        "arr = np.array([1, 2, 3, 4, 5, 6, 7])\n",
        "arr[5]"
      ],
      "metadata": {
        "colab": {
          "base_uri": "https://localhost:8080/"
        },
        "id": "cSbKuBcEx2ZI",
        "outputId": "2bd62b95-abbc-4708-8949-85d04d63837b"
      },
      "execution_count": null,
      "outputs": [
        {
          "output_type": "execute_result",
          "data": {
            "text/plain": [
              "6"
            ]
          },
          "metadata": {},
          "execution_count": 46
        }
      ]
    },
    {
      "cell_type": "code",
      "source": [
        "arr[4:]"
      ],
      "metadata": {
        "colab": {
          "base_uri": "https://localhost:8080/"
        },
        "id": "YEjj71eGyflR",
        "outputId": "217190cf-9405-4c6a-c952-f959ddc7fa32"
      },
      "execution_count": null,
      "outputs": [
        {
          "output_type": "execute_result",
          "data": {
            "text/plain": [
              "array([5, 6, 7])"
            ]
          },
          "metadata": {},
          "execution_count": 47
        }
      ]
    },
    {
      "cell_type": "code",
      "source": [
        "#What is\n",
        "arr[4:] = 0\n",
        "\n",
        "# This is a good example of broadcasting."
      ],
      "metadata": {
        "id": "sVJP8gKGyluf"
      },
      "execution_count": null,
      "outputs": []
    },
    {
      "cell_type": "code",
      "source": [
        "slice_arr = arr[4:]\n",
        "slice_arr[0] = 99999"
      ],
      "metadata": {
        "id": "JWkio_2eysVI"
      },
      "execution_count": null,
      "outputs": []
    },
    {
      "cell_type": "markdown",
      "source": [
        "Bottom line is NumPy always perfers to not copy data because of performance reasons. If you want to copy the data you can add `.copy()` to the end of views. With higher dimensional arrays, you have many more options. In a two-dimensional array, the elements at each index are no longer scalars but rather one-dimensional arrays:"
      ],
      "metadata": {
        "id": "IimwX8i9zVUr"
      }
    },
    {
      "cell_type": "code",
      "source": [
        "arr2d = np.array([[1, 2, 3], [4, 5, 6], [7, 8, 9]])\n",
        "arr2d[2]"
      ],
      "metadata": {
        "colab": {
          "base_uri": "https://localhost:8080/"
        },
        "id": "6lKio0j1zQYZ",
        "outputId": "8ee29595-9fbb-4ade-b0bf-e279a0e397c7"
      },
      "execution_count": null,
      "outputs": [
        {
          "output_type": "execute_result",
          "data": {
            "text/plain": [
              "array([7, 8, 9])"
            ]
          },
          "metadata": {},
          "execution_count": 48
        }
      ]
    },
    {
      "cell_type": "code",
      "source": [
        "arr2d[0][2]"
      ],
      "metadata": {
        "colab": {
          "base_uri": "https://localhost:8080/"
        },
        "id": "WqQ5tdVB0DIK",
        "outputId": "0da19c27-058e-416c-9c4c-6f68e7adca40"
      },
      "execution_count": null,
      "outputs": [
        {
          "output_type": "execute_result",
          "data": {
            "text/plain": [
              "3"
            ]
          },
          "metadata": {},
          "execution_count": 49
        }
      ]
    },
    {
      "cell_type": "code",
      "source": [
        "# Also for easier acces you can pass a comma-seperated list of indices.\n",
        "arr2d[0, 2]"
      ],
      "metadata": {
        "colab": {
          "base_uri": "https://localhost:8080/"
        },
        "id": "qIerbGJE0F0j",
        "outputId": "971ad85a-af31-440f-ed7c-b55578fac758"
      },
      "execution_count": null,
      "outputs": [
        {
          "output_type": "execute_result",
          "data": {
            "text/plain": [
              "3"
            ]
          },
          "metadata": {},
          "execution_count": 50
        }
      ]
    },
    {
      "cell_type": "markdown",
      "source": [
        "### P94 Book and Example of dimentionality reduction"
      ],
      "metadata": {
        "id": "aZSIew900myc"
      }
    },
    {
      "cell_type": "code",
      "source": [
        "arr3d = np.array([[[1, 2, 3], [4, 5, 6]], [[7, 8, 9], [10, 11, 12]]])\n",
        "arr3d"
      ],
      "metadata": {
        "colab": {
          "base_uri": "https://localhost:8080/"
        },
        "id": "tBPz_j4q0mf7",
        "outputId": "3023abdd-6a71-41dc-b705-0c62a366cf53"
      },
      "execution_count": null,
      "outputs": [
        {
          "output_type": "execute_result",
          "data": {
            "text/plain": [
              "array([[[ 1,  2,  3],\n",
              "        [ 4,  5,  6]],\n",
              "\n",
              "       [[ 7,  8,  9],\n",
              "        [10, 11, 12]]])"
            ]
          },
          "metadata": {},
          "execution_count": 58
        }
      ]
    },
    {
      "cell_type": "code",
      "source": [
        "arr3d.shape"
      ],
      "metadata": {
        "colab": {
          "base_uri": "https://localhost:8080/"
        },
        "id": "kWRtmmW00PEJ",
        "outputId": "03d278e2-f624-4412-a00e-a2cfc7e6dac3"
      },
      "execution_count": null,
      "outputs": [
        {
          "output_type": "execute_result",
          "data": {
            "text/plain": [
              "(2, 2, 3)"
            ]
          },
          "metadata": {},
          "execution_count": 52
        }
      ]
    },
    {
      "cell_type": "code",
      "source": [
        "arr3d[0].shape"
      ],
      "metadata": {
        "colab": {
          "base_uri": "https://localhost:8080/"
        },
        "id": "1KJbiyGw01TV",
        "outputId": "767b696f-bae3-4013-d2fc-329362260929"
      },
      "execution_count": null,
      "outputs": [
        {
          "output_type": "execute_result",
          "data": {
            "text/plain": [
              "(2, 3)"
            ]
          },
          "metadata": {},
          "execution_count": 53
        }
      ]
    },
    {
      "cell_type": "code",
      "source": [
        "print(arr3d)\n",
        "save_val = arr3d[0].copy()\n",
        "arr3d[0] = 999\n",
        "print(arr3d)\n",
        "arr3d[0] = save_val"
      ],
      "metadata": {
        "colab": {
          "base_uri": "https://localhost:8080/"
        },
        "id": "a81JAFYF03KE",
        "outputId": "eb9916d4-092f-4c93-8968-d1016e79eeba"
      },
      "execution_count": null,
      "outputs": [
        {
          "output_type": "stream",
          "name": "stdout",
          "text": [
            "[[[ 1  2  3]\n",
            "  [ 4  5  6]]\n",
            "\n",
            " [[ 7  8  9]\n",
            "  [10 11 12]]]\n",
            "[[[999 999 999]\n",
            "  [999 999 999]]\n",
            "\n",
            " [[  7   8   9]\n",
            "  [ 10  11  12]]]\n"
          ]
        }
      ]
    },
    {
      "cell_type": "markdown",
      "source": [
        "## Slicing\n",
        "Like one-dimentinoal object such as Python lists, ndarrays can be sliced with the familiar syntax. However, slicing 2d objects is a bit different."
      ],
      "metadata": {
        "id": "UYtZi9gG1YKm"
      }
    },
    {
      "cell_type": "code",
      "source": [
        "arr2d.ndim"
      ],
      "metadata": {
        "colab": {
          "base_uri": "https://localhost:8080/"
        },
        "id": "9gZWXHhc09DE",
        "outputId": "9673004b-dc8e-436b-e8b2-08aa71ab810c"
      },
      "execution_count": null,
      "outputs": [
        {
          "output_type": "execute_result",
          "data": {
            "text/plain": [
              "2"
            ]
          },
          "metadata": {},
          "execution_count": 62
        }
      ]
    },
    {
      "cell_type": "code",
      "source": [
        "arr2d[:2]\n",
        "\n",
        "# Select the first two rows of arr2d."
      ],
      "metadata": {
        "colab": {
          "base_uri": "https://localhost:8080/"
        },
        "id": "gvoqyznp1s7Q",
        "outputId": "da18c8ae-e5c1-4a5d-e88f-0d79f6e40718"
      },
      "execution_count": null,
      "outputs": [
        {
          "output_type": "execute_result",
          "data": {
            "text/plain": [
              "array([[1, 2, 3],\n",
              "       [4, 5, 6]])"
            ]
          },
          "metadata": {},
          "execution_count": 63
        }
      ]
    },
    {
      "cell_type": "code",
      "source": [
        "# You can do multiple indexes\n",
        "arr2d[:2, 1:]"
      ],
      "metadata": {
        "colab": {
          "base_uri": "https://localhost:8080/"
        },
        "id": "bhtcjTpL1wgn",
        "outputId": "1820ce3e-26af-4ead-b805-520aef89cfce"
      },
      "execution_count": null,
      "outputs": [
        {
          "output_type": "execute_result",
          "data": {
            "text/plain": [
              "array([[2, 3],\n",
              "       [5, 6]])"
            ]
          },
          "metadata": {},
          "execution_count": 64
        }
      ]
    },
    {
      "cell_type": "code",
      "source": [
        "# Or you can select.\n",
        "arr2d[1, :2]"
      ],
      "metadata": {
        "colab": {
          "base_uri": "https://localhost:8080/"
        },
        "id": "V-a84D372Fso",
        "outputId": "e3f46ed1-abca-41e6-845d-6296be39f32e"
      },
      "execution_count": null,
      "outputs": [
        {
          "output_type": "execute_result",
          "data": {
            "text/plain": [
              "array([4, 5])"
            ]
          },
          "metadata": {},
          "execution_count": 67
        }
      ]
    },
    {
      "cell_type": "code",
      "source": [
        "arr2d[:, :1]"
      ],
      "metadata": {
        "colab": {
          "base_uri": "https://localhost:8080/"
        },
        "id": "A83yeC202VDv",
        "outputId": "d11b2f09-9aea-43c0-8a23-b07d8375cbe6"
      },
      "execution_count": null,
      "outputs": [
        {
          "output_type": "execute_result",
          "data": {
            "text/plain": [
              "array([[1],\n",
              "       [4],\n",
              "       [7]])"
            ]
          },
          "metadata": {},
          "execution_count": 68
        }
      ]
    },
    {
      "cell_type": "markdown",
      "source": [
        "### Boolean Indexing\n",
        "\n",
        "Let consider using strings and indexing them."
      ],
      "metadata": {
        "id": "7AYI8njG24VH"
      }
    },
    {
      "cell_type": "code",
      "source": [
        "names = np.array([\"Bob\", \"Joe\", \"Will\", \"Bob\", \"Will\", \"Joe\", \"Joe\"])\n",
        "data = np.array([[4, 7], [0, 2], [-5, 6], [0, 0], [1, 2], [-12, -4], [3, 4]])\n",
        "names"
      ],
      "metadata": {
        "colab": {
          "base_uri": "https://localhost:8080/"
        },
        "id": "F9PjLjdw20sK",
        "outputId": "cacace35-9a43-40b4-82e6-a71ec67853df"
      },
      "execution_count": null,
      "outputs": [
        {
          "output_type": "execute_result",
          "data": {
            "text/plain": [
              "array(['Bob', 'Joe', 'Will', 'Bob', 'Will', 'Joe', 'Joe'], dtype='<U4')"
            ]
          },
          "metadata": {},
          "execution_count": 69
        }
      ]
    },
    {
      "cell_type": "code",
      "source": [
        "data"
      ],
      "metadata": {
        "colab": {
          "base_uri": "https://localhost:8080/"
        },
        "id": "elzZPCwd3RBV",
        "outputId": "93846b05-5f3c-4e4b-f4d7-ac1b422b022b"
      },
      "execution_count": null,
      "outputs": [
        {
          "output_type": "execute_result",
          "data": {
            "text/plain": [
              "array([[  4,   7],\n",
              "       [  0,   2],\n",
              "       [ -5,   6],\n",
              "       [  0,   0],\n",
              "       [  1,   2],\n",
              "       [-12,  -4],\n",
              "       [  3,   4]])"
            ]
          },
          "metadata": {},
          "execution_count": 70
        }
      ]
    },
    {
      "cell_type": "code",
      "source": [
        "# Now we want to get all. rows corresponding name Bob\n",
        "names == \"Bob\""
      ],
      "metadata": {
        "colab": {
          "base_uri": "https://localhost:8080/"
        },
        "id": "CzttaDy53SEK",
        "outputId": "9d17f3e9-348c-4f42-8bd4-cfafe6fdc3b4"
      },
      "execution_count": null,
      "outputs": [
        {
          "output_type": "execute_result",
          "data": {
            "text/plain": [
              "array([ True, False, False,  True, False, False, False])"
            ]
          },
          "metadata": {},
          "execution_count": 72
        }
      ]
    },
    {
      "cell_type": "code",
      "source": [
        "# So we can index Bobs\n",
        "data[names == \"Bob\"]"
      ],
      "metadata": {
        "colab": {
          "base_uri": "https://localhost:8080/"
        },
        "id": "A3Ej_BHU3d1L",
        "outputId": "6bfe0f4a-0322-4e84-933b-42afe405916f"
      },
      "execution_count": null,
      "outputs": [
        {
          "output_type": "execute_result",
          "data": {
            "text/plain": [
              "array([[4, 7],\n",
              "       [0, 0]])"
            ]
          },
          "metadata": {},
          "execution_count": 73
        }
      ]
    },
    {
      "cell_type": "markdown",
      "source": [
        "Boolean array **must be of the same length** as the array axis it's indexing. you can even mix and match Boolean arrays with slices or integers."
      ],
      "metadata": {
        "id": "K21i39E-3v_w"
      }
    },
    {
      "cell_type": "code",
      "source": [
        "data[names == \"Bob\", 1:]"
      ],
      "metadata": {
        "colab": {
          "base_uri": "https://localhost:8080/"
        },
        "id": "B1Z88INs3lUn",
        "outputId": "ff34ce5b-9b58-4dcb-ebd5-1f712ce6ead8"
      },
      "execution_count": null,
      "outputs": [
        {
          "output_type": "execute_result",
          "data": {
            "text/plain": [
              "array([[7],\n",
              "       [0]])"
            ]
          },
          "metadata": {},
          "execution_count": 74
        }
      ]
    },
    {
      "cell_type": "code",
      "source": [
        "data[names == \"Bob\", 1]"
      ],
      "metadata": {
        "colab": {
          "base_uri": "https://localhost:8080/"
        },
        "id": "3ph3qgUB3-6a",
        "outputId": "9d2e65b3-b72f-4a86-fa6d-e9cc35bbd48d"
      },
      "execution_count": null,
      "outputs": [
        {
          "output_type": "execute_result",
          "data": {
            "text/plain": [
              "array([7, 0])"
            ]
          },
          "metadata": {},
          "execution_count": 75
        }
      ]
    },
    {
      "cell_type": "code",
      "source": [
        "# You can reverse the selection by using != or ~\n",
        "~(names == \"Bob\")"
      ],
      "metadata": {
        "colab": {
          "base_uri": "https://localhost:8080/"
        },
        "id": "2xjw7mOw4Bi4",
        "outputId": "823b9bb5-a28e-469f-d776-a3da67d1c7cd"
      },
      "execution_count": null,
      "outputs": [
        {
          "output_type": "execute_result",
          "data": {
            "text/plain": [
              "array([False,  True,  True, False,  True,  True,  True])"
            ]
          },
          "metadata": {},
          "execution_count": 76
        }
      ]
    },
    {
      "cell_type": "code",
      "source": [
        "data[~(names == \"Bob\")]"
      ],
      "metadata": {
        "colab": {
          "base_uri": "https://localhost:8080/"
        },
        "id": "p6gAm8qQ4MZW",
        "outputId": "041c2fc4-26da-4ca3-a6d0-80d9a1fca879"
      },
      "execution_count": null,
      "outputs": [
        {
          "output_type": "execute_result",
          "data": {
            "text/plain": [
              "array([[  0,   2],\n",
              "       [ -5,   6],\n",
              "       [  1,   2],\n",
              "       [-12,  -4],\n",
              "       [  3,   4]])"
            ]
          },
          "metadata": {},
          "execution_count": 77
        }
      ]
    },
    {
      "cell_type": "code",
      "source": [
        "# You can pass the condition to a variable and reuse it or even reverse it.\n",
        "cond = names == \"Bob\"\n",
        "data[~cond]"
      ],
      "metadata": {
        "colab": {
          "base_uri": "https://localhost:8080/"
        },
        "id": "K0TlnZG64PpB",
        "outputId": "93529c87-4c77-4792-bfee-2ff7cec2e1be"
      },
      "execution_count": null,
      "outputs": [
        {
          "output_type": "execute_result",
          "data": {
            "text/plain": [
              "array([[  0,   2],\n",
              "       [ -5,   6],\n",
              "       [  1,   2],\n",
              "       [-12,  -4],\n",
              "       [  3,   4]])"
            ]
          },
          "metadata": {},
          "execution_count": 78
        }
      ]
    },
    {
      "cell_type": "markdown",
      "source": [
        "We can use boolean arithmetic operations like & (and) and | (or) to mix conditions."
      ],
      "metadata": {
        "id": "ff96X_xV4lhM"
      }
    },
    {
      "cell_type": "code",
      "source": [
        "mask = (names=='Bob')|(names=='Will')\n",
        "print(mask)\n",
        "print(data[mask])"
      ],
      "metadata": {
        "colab": {
          "base_uri": "https://localhost:8080/"
        },
        "id": "EsBzjFq-4i5B",
        "outputId": "7c17b05c-9325-4ea4-e951-181ad80f9720"
      },
      "execution_count": null,
      "outputs": [
        {
          "output_type": "stream",
          "name": "stdout",
          "text": [
            "[ True False  True  True  True False False]\n",
            "[[ 4  7]\n",
            " [-5  6]\n",
            " [ 0  0]\n",
            " [ 1  2]]\n"
          ]
        }
      ]
    },
    {
      "cell_type": "markdown",
      "source": [
        "You can substitude a value on the righthand side into tht locations where the boolean array's values are True. To set all of the negative values in data to 0, we can..."
      ],
      "metadata": {
        "id": "3HUwM7Nj5DsS"
      }
    },
    {
      "cell_type": "code",
      "source": [
        "print(data, end='\\n\\n#########\\n\\n')\n",
        "data[data < 0] = 0\n",
        "print(data)"
      ],
      "metadata": {
        "colab": {
          "base_uri": "https://localhost:8080/"
        },
        "id": "Ggk8G1dS4biu",
        "outputId": "bddd748e-43c1-4074-f408-b8653ae52cf1"
      },
      "execution_count": null,
      "outputs": [
        {
          "output_type": "stream",
          "name": "stdout",
          "text": [
            "[[4 7]\n",
            " [0 2]\n",
            " [0 6]\n",
            " [0 0]\n",
            " [1 2]\n",
            " [0 0]\n",
            " [3 4]]\n",
            "\n",
            "#########\n",
            "\n",
            "[[4 7]\n",
            " [0 2]\n",
            " [0 6]\n",
            " [0 0]\n",
            " [1 2]\n",
            " [0 0]\n",
            " [3 4]]\n"
          ]
        }
      ]
    },
    {
      "cell_type": "code",
      "source": [
        "arr = np.zeros((8, 4))\n",
        "\n",
        "for i in range(8):\n",
        "    arr[i] = i"
      ],
      "metadata": {
        "id": "bA7U0Kxv5TkO"
      },
      "execution_count": null,
      "outputs": []
    },
    {
      "cell_type": "code",
      "source": [
        "# We can select subset of the rows in a particular order, for this we need to\n",
        "# pass a list or ndarray of ints. Or we can use negative indices.\n",
        "\n",
        "arr[[3, -1, 5, 2]]"
      ],
      "metadata": {
        "colab": {
          "base_uri": "https://localhost:8080/"
        },
        "id": "DzzSfWT-5-nY",
        "outputId": "89768833-f460-4a82-db1a-6099d9229d89"
      },
      "execution_count": null,
      "outputs": [
        {
          "output_type": "execute_result",
          "data": {
            "text/plain": [
              "array([[3., 3., 3., 3.],\n",
              "       [7., 7., 7., 7.],\n",
              "       [5., 5., 5., 5.],\n",
              "       [2., 2., 2., 2.]])"
            ]
          },
          "metadata": {},
          "execution_count": 92
        }
      ]
    },
    {
      "cell_type": "code",
      "source": [
        "# We can also pass multiplle index arrays like tuple of indices.\n",
        "arr = np.arange(32).reshape((8, 4))\n",
        "arr[[1, 5, 7, 2], [0, 3, 1, 2]]"
      ],
      "metadata": {
        "colab": {
          "base_uri": "https://localhost:8080/"
        },
        "id": "F7w5DVBa6TRQ",
        "outputId": "5543dec2-b619-45f0-f780-9d8a2bb88bbf"
      },
      "execution_count": null,
      "outputs": [
        {
          "output_type": "execute_result",
          "data": {
            "text/plain": [
              "array([ 4, 23, 29, 10])"
            ]
          },
          "metadata": {},
          "execution_count": 93
        }
      ]
    },
    {
      "cell_type": "code",
      "source": [
        "# Special\n",
        "arr[[1, 5, 7, 2]][:, [1, 3, 0, 2]]"
      ],
      "metadata": {
        "colab": {
          "base_uri": "https://localhost:8080/"
        },
        "id": "76WM_jwr6vgg",
        "outputId": "d4796a4c-3c07-409f-9d52-bfea9c117d9e"
      },
      "execution_count": null,
      "outputs": [
        {
          "output_type": "execute_result",
          "data": {
            "text/plain": [
              "array([[ 5,  7,  4,  6],\n",
              "       [21, 23, 20, 22],\n",
              "       [29, 31, 28, 30],\n",
              "       [ 9, 11,  8, 10]])"
            ]
          },
          "metadata": {},
          "execution_count": 102
        }
      ]
    },
    {
      "cell_type": "markdown",
      "source": [
        "So we have *[index of rows][select everything [get x]]*\n",
        "\n",
        "Keep in mind that fancy indexing always copies the data.\n",
        "\n",
        "## Transposing Arrays and swapping Axes\n",
        "Transposing is a special kind of reshaping that similarly returns a view on the underlying data without copying anything. One the most popular methods is T attribute."
      ],
      "metadata": {
        "id": "lx9v3u-A75ns"
      }
    },
    {
      "cell_type": "code",
      "source": [
        "arr = np.arange(15).reshape((3, 5))\n",
        "arr"
      ],
      "metadata": {
        "colab": {
          "base_uri": "https://localhost:8080/"
        },
        "id": "q2Fdi4e97jzT",
        "outputId": "92cbed59-79c9-4ec0-d65b-13715c64309f"
      },
      "execution_count": null,
      "outputs": [
        {
          "output_type": "execute_result",
          "data": {
            "text/plain": [
              "array([[ 0,  1,  2,  3,  4],\n",
              "       [ 5,  6,  7,  8,  9],\n",
              "       [10, 11, 12, 13, 14]])"
            ]
          },
          "metadata": {},
          "execution_count": 103
        }
      ]
    },
    {
      "cell_type": "code",
      "source": [
        "arr.T"
      ],
      "metadata": {
        "colab": {
          "base_uri": "https://localhost:8080/"
        },
        "id": "311WSFbZ8rl1",
        "outputId": "0fd43ae6-d7e9-4870-d0c8-e4b96bada181"
      },
      "execution_count": null,
      "outputs": [
        {
          "output_type": "execute_result",
          "data": {
            "text/plain": [
              "array([[ 0,  5, 10],\n",
              "       [ 1,  6, 11],\n",
              "       [ 2,  7, 12],\n",
              "       [ 3,  8, 13],\n",
              "       [ 4,  9, 14]])"
            ]
          },
          "metadata": {},
          "execution_count": 104
        }
      ]
    },
    {
      "cell_type": "code",
      "source": [
        "# We use this all the time in dot product.\n",
        "arr = np.array([[0, 1, 0], [1, 2, -2], [6, 3, 2], [-1, 0, -1], [1, 0, 1]])\n",
        "arr"
      ],
      "metadata": {
        "colab": {
          "base_uri": "https://localhost:8080/"
        },
        "id": "l20Wpsl78sRM",
        "outputId": "e15927d7-9b2b-4e79-c938-0c36ac350b07"
      },
      "execution_count": null,
      "outputs": [
        {
          "output_type": "execute_result",
          "data": {
            "text/plain": [
              "array([[ 0,  1,  0],\n",
              "       [ 1,  2, -2],\n",
              "       [ 6,  3,  2],\n",
              "       [-1,  0, -1],\n",
              "       [ 1,  0,  1]])"
            ]
          },
          "metadata": {},
          "execution_count": 105
        }
      ]
    },
    {
      "cell_type": "code",
      "source": [
        "print(arr.shape)\n",
        "print(arr.T.shape)"
      ],
      "metadata": {
        "colab": {
          "base_uri": "https://localhost:8080/"
        },
        "id": "0rpzMXFS8-Su",
        "outputId": "0def7cb1-9930-4237-b404-e90cdc6ed0c0"
      },
      "execution_count": null,
      "outputs": [
        {
          "output_type": "stream",
          "name": "stdout",
          "text": [
            "(5, 3)\n",
            "(3, 5)\n"
          ]
        }
      ]
    },
    {
      "cell_type": "code",
      "source": [
        "np.dot(arr.T, arr)"
      ],
      "metadata": {
        "colab": {
          "base_uri": "https://localhost:8080/"
        },
        "id": "1thlfp8b85Q8",
        "outputId": "2974f24a-0609-42ae-cbd3-4940648468b2"
      },
      "execution_count": null,
      "outputs": [
        {
          "output_type": "execute_result",
          "data": {
            "text/plain": [
              "array([[39, 20, 12],\n",
              "       [20, 14,  2],\n",
              "       [12,  2, 10]])"
            ]
          },
          "metadata": {},
          "execution_count": 106
        }
      ]
    },
    {
      "cell_type": "code",
      "source": [
        "# We can also do matrix multiplication with @\n",
        "arr.T @ arr"
      ],
      "metadata": {
        "colab": {
          "base_uri": "https://localhost:8080/"
        },
        "id": "4XD366c-87s-",
        "outputId": "4eee3f87-7f75-4a97-93a6-af86e012e929"
      },
      "execution_count": null,
      "outputs": [
        {
          "output_type": "execute_result",
          "data": {
            "text/plain": [
              "array([[39, 20, 12],\n",
              "       [20, 14,  2],\n",
              "       [12,  2, 10]])"
            ]
          },
          "metadata": {},
          "execution_count": 108
        }
      ]
    },
    {
      "cell_type": "markdown",
      "source": [
        "## Creating Pseudorandom Numbers\n",
        "The numpy.random module supplements the built-in Python random module, for example we can get a 4x4 array out of standard normal distribution with:"
      ],
      "metadata": {
        "id": "yD5w5nVt9ZDY"
      }
    },
    {
      "cell_type": "code",
      "source": [
        "samples = np.random.standard_normal(size=(4, 4))"
      ],
      "metadata": {
        "id": "y2EP26R39Y1q"
      },
      "execution_count": null,
      "outputs": []
    },
    {
      "cell_type": "code",
      "source": [
        "samples"
      ],
      "metadata": {
        "colab": {
          "base_uri": "https://localhost:8080/"
        },
        "id": "otYorIZu9JRN",
        "outputId": "ea3dc039-3496-4709-9121-71b61460ea2c"
      },
      "execution_count": null,
      "outputs": [
        {
          "output_type": "execute_result",
          "data": {
            "text/plain": [
              "array([[-0.99117968, -1.84954363,  1.72104702,  0.8438536 ],\n",
              "       [ 1.27983502, -0.67919147, -0.02471741,  1.54922714],\n",
              "       [-0.41765419,  1.34536319, -1.0199343 ,  1.12060146],\n",
              "       [ 0.32180836, -0.5008344 ,  0.30375415,  2.43906116]])"
            ]
          },
          "metadata": {},
          "execution_count": 110
        }
      ]
    },
    {
      "cell_type": "markdown",
      "source": [
        "Random number are not truly random but are pseudorandom which are generated by a configurable random nnumber generator that determines deterministically what values are created. Functions like numpy.random.standard_normal use default seed but you can pass you own seed."
      ],
      "metadata": {
        "id": "41RfOBic9-pg"
      }
    },
    {
      "cell_type": "code",
      "source": [
        "rng = np.random.default_rng(seed=12345)"
      ],
      "metadata": {
        "id": "vCZshZN89yho"
      },
      "execution_count": null,
      "outputs": []
    },
    {
      "cell_type": "code",
      "source": [
        "rng.standard_normal((2, 3))"
      ],
      "metadata": {
        "colab": {
          "base_uri": "https://localhost:8080/"
        },
        "id": "_3ut1FR5-R8r",
        "outputId": "6cc53661-05f0-4d1b-f47d-933c21d77571"
      },
      "execution_count": null,
      "outputs": [
        {
          "output_type": "execute_result",
          "data": {
            "text/plain": [
              "array([[-1.42382504,  1.26372846, -0.87066174],\n",
              "       [-0.25917323, -0.07534331, -0.74088465]])"
            ]
          },
          "metadata": {},
          "execution_count": 113
        }
      ]
    },
    {
      "cell_type": "markdown",
      "source": [
        "**Random number generators**:\n",
        "permutation, shuffle, uniform, integers, standard_normal, binomial, normal, beta, chisquare, gamma, uniform\n",
        "\n",
        "## Ufuncs\n",
        "A universal function, or ufunc, is a function that performs element-wise operations on data in ndarrays. You can think of them as fast vectorized wrappers for simple functions that take one or more scalar values and produce one or more scalar results."
      ],
      "metadata": {
        "id": "MxLENwfB-lDG"
      }
    },
    {
      "cell_type": "code",
      "source": [
        "arr = np.arange(20)\n",
        "print(arr)"
      ],
      "metadata": {
        "colab": {
          "base_uri": "https://localhost:8080/"
        },
        "id": "Phva8av9-S1u",
        "outputId": "87cd359d-c125-4e27-b1b6-cab40b2f1122"
      },
      "execution_count": null,
      "outputs": [
        {
          "output_type": "stream",
          "name": "stdout",
          "text": [
            "[ 0  1  2  3  4  5  6  7  8  9 10 11 12 13 14 15 16 17 18 19]\n"
          ]
        }
      ]
    },
    {
      "cell_type": "code",
      "source": [
        "print(np.sqrt(arr))"
      ],
      "metadata": {
        "colab": {
          "base_uri": "https://localhost:8080/"
        },
        "id": "xbDd-fzA_aUS",
        "outputId": "e2b829bf-1194-4a52-811f-3315a9935749"
      },
      "execution_count": null,
      "outputs": [
        {
          "output_type": "stream",
          "name": "stdout",
          "text": [
            "[0.         1.         1.41421356 1.73205081 2.         2.23606798\n",
            " 2.44948974 2.64575131 2.82842712 3.         3.16227766 3.31662479\n",
            " 3.46410162 3.60555128 3.74165739 3.87298335 4.         4.12310563\n",
            " 4.24264069 4.35889894]\n"
          ]
        }
      ]
    },
    {
      "cell_type": "code",
      "source": [
        "print(np.exp(arr))"
      ],
      "metadata": {
        "colab": {
          "base_uri": "https://localhost:8080/"
        },
        "id": "eyyZVolL_cY-",
        "outputId": "c2fc74a3-87f5-4ab0-9394-e329c84cbb9f"
      },
      "execution_count": null,
      "outputs": [
        {
          "output_type": "stream",
          "name": "stdout",
          "text": [
            "[1.00000000e+00 2.71828183e+00 7.38905610e+00 2.00855369e+01\n",
            " 5.45981500e+01 1.48413159e+02 4.03428793e+02 1.09663316e+03\n",
            " 2.98095799e+03 8.10308393e+03 2.20264658e+04 5.98741417e+04\n",
            " 1.62754791e+05 4.42413392e+05 1.20260428e+06 3.26901737e+06\n",
            " 8.88611052e+06 2.41549528e+07 6.56599691e+07 1.78482301e+08]\n"
          ]
        }
      ]
    },
    {
      "cell_type": "markdown",
      "source": [
        "These are called unary ufuncs because they take only a single array as opposed to np.add getting two arrays."
      ],
      "metadata": {
        "id": "V3DFsr8__hcr"
      }
    },
    {
      "cell_type": "code",
      "source": [
        "y = rng.standard_normal(8)\n",
        "print(y)"
      ],
      "metadata": {
        "colab": {
          "base_uri": "https://localhost:8080/"
        },
        "id": "jWCe1p10_c7B",
        "outputId": "b3f4580a-f911-4a21-c027-0b39865463dc"
      },
      "execution_count": null,
      "outputs": [
        {
          "output_type": "stream",
          "name": "stdout",
          "text": [
            "[ 0.90291934 -1.62158273 -0.15818926  0.44948393 -1.34360107 -0.08168759\n",
            "  1.72473993  2.61815943]\n"
          ]
        }
      ]
    },
    {
      "cell_type": "code",
      "source": [
        "x = rng.standard_normal(8)\n",
        "print(x)"
      ],
      "metadata": {
        "colab": {
          "base_uri": "https://localhost:8080/"
        },
        "id": "96l2RxJA_ye9",
        "outputId": "04628081-3b5e-4c9c-ad38-3a44fa5e2b45"
      },
      "execution_count": null,
      "outputs": [
        {
          "output_type": "stream",
          "name": "stdout",
          "text": [
            "[ 0.77736134  0.8286332  -0.95898831 -1.20938829 -1.41229201  0.54154683\n",
            "  0.7519394  -0.65876032]\n"
          ]
        }
      ]
    },
    {
      "cell_type": "code",
      "source": [
        "np.maximum(x, y)"
      ],
      "metadata": {
        "colab": {
          "base_uri": "https://localhost:8080/"
        },
        "id": "4SrNM8wZ_3fM",
        "outputId": "4300fa00-52e8-4f62-b826-3349de2ebcd8"
      },
      "execution_count": null,
      "outputs": [
        {
          "output_type": "execute_result",
          "data": {
            "text/plain": [
              "array([ 0.90291934,  0.8286332 , -0.15818926,  0.44948393, -1.34360107,\n",
              "        0.54154683,  1.72473993,  2.61815943])"
            ]
          },
          "metadata": {},
          "execution_count": 121
        }
      ]
    },
    {
      "cell_type": "code",
      "source": [
        "# We can pass out argument to these ufuncs which is optional to assign them\n",
        "# into an existing array rather than create a new one.\n",
        "out = np.zeros_like(arr)\n",
        "np.add(arr, 2, out=out)\n",
        "out"
      ],
      "metadata": {
        "colab": {
          "base_uri": "https://localhost:8080/"
        },
        "id": "n-7VUSOj_4DJ",
        "outputId": "29d22497-1bec-451c-d2e6-098042c583b2"
      },
      "execution_count": null,
      "outputs": [
        {
          "output_type": "execute_result",
          "data": {
            "text/plain": [
              "array([ 2,  3,  4,  5,  6,  7,  8,  9, 10, 11, 12, 13, 14, 15, 16, 17, 18,\n",
              "       19, 20, 21])"
            ]
          },
          "metadata": {},
          "execution_count": 124
        }
      ]
    },
    {
      "cell_type": "markdown",
      "source": [
        "## There is a list of ufuncs in P107\n",
        "\n",
        "## Array Oriented Programming with Arrays\n",
        "Using NumPy arrays enables you to express many kinds of data processing tasks as concise array expressions that might otherwise require writing loops. This practice of replacing explicit loops with array expressions is referred to by some people as vectorization. In general, vectorized array operations will usually be significantly faster than their pure Python equivalents, with the biggest impact in any kind of numerical computations.\n",
        "\n",
        "As a simple example, suppose we wished to evaluate the function sqrt(x^2 + y^2) across a regular grid of values. The numpy.meshgrid function takes two one-dimensional arrays and produces two two-dimensional matrices corresponding to all pairs of (x, y) in the two arrays"
      ],
      "metadata": {
        "id": "nEdqUKoMAwVR"
      }
    },
    {
      "cell_type": "code",
      "source": [
        "points = np.arange(-5, 5, 0.01) #100 elements from -5 to 5\n",
        "xs, ys = np.meshgrid(points, points)"
      ],
      "metadata": {
        "id": "m-EahASoAwBf"
      },
      "execution_count": null,
      "outputs": []
    },
    {
      "cell_type": "code",
      "source": [
        "ys.shape"
      ],
      "metadata": {
        "colab": {
          "base_uri": "https://localhost:8080/"
        },
        "id": "4i2EWOLPApT5",
        "outputId": "796db5c2-4391-4f6a-95f9-74da6a90c395"
      },
      "execution_count": null,
      "outputs": [
        {
          "output_type": "execute_result",
          "data": {
            "text/plain": [
              "(1000, 1000)"
            ]
          },
          "metadata": {},
          "execution_count": 140
        }
      ]
    },
    {
      "cell_type": "code",
      "source": [
        "ys"
      ],
      "metadata": {
        "colab": {
          "base_uri": "https://localhost:8080/"
        },
        "id": "JlT4VVD5Bieu",
        "outputId": "ba2f0e7d-6d3e-476c-e374-2bf5e9f54b42"
      },
      "execution_count": null,
      "outputs": [
        {
          "output_type": "execute_result",
          "data": {
            "text/plain": [
              "array([[-5.  , -5.  , -5.  , ..., -5.  , -5.  , -5.  ],\n",
              "       [-4.99, -4.99, -4.99, ..., -4.99, -4.99, -4.99],\n",
              "       [-4.98, -4.98, -4.98, ..., -4.98, -4.98, -4.98],\n",
              "       ...,\n",
              "       [ 4.97,  4.97,  4.97, ...,  4.97,  4.97,  4.97],\n",
              "       [ 4.98,  4.98,  4.98, ...,  4.98,  4.98,  4.98],\n",
              "       [ 4.99,  4.99,  4.99, ...,  4.99,  4.99,  4.99]])"
            ]
          },
          "metadata": {},
          "execution_count": 141
        }
      ]
    },
    {
      "cell_type": "code",
      "source": [
        "# Creating the function\n",
        "z = np.sqrt(xs ** 2 +ys ** 2)"
      ],
      "metadata": {
        "id": "V5Rzj_nEB2Wa"
      },
      "execution_count": null,
      "outputs": []
    },
    {
      "cell_type": "code",
      "source": [
        "z"
      ],
      "metadata": {
        "colab": {
          "base_uri": "https://localhost:8080/"
        },
        "id": "eqT7SiZOCStb",
        "outputId": "bbe3f888-e2ef-4f51-895b-b42ea7e70db0"
      },
      "execution_count": null,
      "outputs": [
        {
          "output_type": "execute_result",
          "data": {
            "text/plain": [
              "array([[7.07106781, 7.06400028, 7.05693985, ..., 7.04988652, 7.05693985,\n",
              "        7.06400028],\n",
              "       [7.06400028, 7.05692568, 7.04985815, ..., 7.04279774, 7.04985815,\n",
              "        7.05692568],\n",
              "       [7.05693985, 7.04985815, 7.04278354, ..., 7.03571603, 7.04278354,\n",
              "        7.04985815],\n",
              "       ...,\n",
              "       [7.04988652, 7.04279774, 7.03571603, ..., 7.0286414 , 7.03571603,\n",
              "        7.04279774],\n",
              "       [7.05693985, 7.04985815, 7.04278354, ..., 7.03571603, 7.04278354,\n",
              "        7.04985815],\n",
              "       [7.06400028, 7.05692568, 7.04985815, ..., 7.04279774, 7.04985815,\n",
              "        7.05692568]])"
            ]
          },
          "metadata": {},
          "execution_count": 149
        }
      ]
    },
    {
      "cell_type": "code",
      "source": [
        "# We can get values from multiple arrays with where method\n",
        "xarr = np.array([1.1, 1.2, 1.3, 1.4, 1.5])\n",
        "yarr = np.array([2.1, 2.2, 2.3, 2.4, 2.5])\n",
        "cond = np.array([True, False, True, True, False])"
      ],
      "metadata": {
        "id": "72L2mLtqCTO1"
      },
      "execution_count": null,
      "outputs": []
    },
    {
      "cell_type": "code",
      "source": [
        "res = np.where(cond, xarr, yarr)"
      ],
      "metadata": {
        "id": "KxFrH2VRC9R8"
      },
      "execution_count": null,
      "outputs": []
    },
    {
      "cell_type": "code",
      "source": [
        "res"
      ],
      "metadata": {
        "colab": {
          "base_uri": "https://localhost:8080/"
        },
        "id": "vxsNIqjyDA-E",
        "outputId": "ede13fda-ebb4-4ad8-fc37-ac48ea40ee91"
      },
      "execution_count": null,
      "outputs": [
        {
          "output_type": "execute_result",
          "data": {
            "text/plain": [
              "array([1.1, 2.2, 1.3, 1.4, 2.5])"
            ]
          },
          "metadata": {},
          "execution_count": 152
        }
      ]
    },
    {
      "cell_type": "code",
      "source": [
        "# We can use scaler as a filler instead of 2 arrays.\n",
        "\n",
        "arr = rng.standard_normal((4, 4))\n",
        "arr > 0"
      ],
      "metadata": {
        "colab": {
          "base_uri": "https://localhost:8080/"
        },
        "id": "Kic5Cw_iDBtM",
        "outputId": "a8e09d93-7ba1-4729-93ed-143e9f83285a"
      },
      "execution_count": null,
      "outputs": [
        {
          "output_type": "execute_result",
          "data": {
            "text/plain": [
              "array([[False,  True,  True, False],\n",
              "       [ True, False, False, False],\n",
              "       [ True,  True,  True,  True],\n",
              "       [ True,  True,  True,  True]])"
            ]
          },
          "metadata": {},
          "execution_count": 153
        }
      ]
    },
    {
      "cell_type": "code",
      "source": [
        "np.where(arr > 0, 2, -2)"
      ],
      "metadata": {
        "colab": {
          "base_uri": "https://localhost:8080/"
        },
        "id": "vrodcTzADW9A",
        "outputId": "5c5e862b-0f94-4859-a771-a0ea69a4a447"
      },
      "execution_count": null,
      "outputs": [
        {
          "output_type": "execute_result",
          "data": {
            "text/plain": [
              "array([[-2,  2,  2, -2],\n",
              "       [ 2, -2, -2, -2],\n",
              "       [ 2,  2,  2,  2],\n",
              "       [ 2,  2,  2,  2]])"
            ]
          },
          "metadata": {},
          "execution_count": 154
        }
      ]
    },
    {
      "cell_type": "markdown",
      "source": [
        "# Mathematical methods\n",
        "\n",
        "We can use methods like sum, mean, and std either by calling them on the array or by using top level numpy functions."
      ],
      "metadata": {
        "id": "woN_vJ6cDffO"
      }
    },
    {
      "cell_type": "code",
      "source": [
        "arr"
      ],
      "metadata": {
        "colab": {
          "base_uri": "https://localhost:8080/"
        },
        "id": "T-x9fNY3EShL",
        "outputId": "e0bc9fba-a695-45ec-ade3-58ae757fbc95"
      },
      "execution_count": null,
      "outputs": [
        {
          "output_type": "execute_result",
          "data": {
            "text/plain": [
              "array([[-1.22867499,  0.25755777,  0.31290292, -0.13081169],\n",
              "       [ 1.26998312, -0.09296246, -0.06615089, -1.10821447],\n",
              "       [ 0.13595685,  1.34707776,  0.06114402,  0.0709146 ],\n",
              "       [ 0.43365454,  0.27748366,  0.53025239,  0.53672097]])"
            ]
          },
          "metadata": {},
          "execution_count": 158
        }
      ]
    },
    {
      "cell_type": "code",
      "source": [
        "print(arr.mean())\n",
        "print(arr.sum())"
      ],
      "metadata": {
        "colab": {
          "base_uri": "https://localhost:8080/"
        },
        "id": "ZevIDRndDXzW",
        "outputId": "1ad75678-82dd-4c6f-f2af-d71e9e802fcc"
      },
      "execution_count": null,
      "outputs": [
        {
          "output_type": "stream",
          "name": "stdout",
          "text": [
            "0.16292713165061673\n",
            "2.6068341064098677\n"
          ]
        }
      ]
    },
    {
      "cell_type": "markdown",
      "source": [
        "We can pass axis that computes the statistic over the given axis, it can be 1, column-wise or 0, row-wise."
      ],
      "metadata": {
        "id": "z6gH9VUREAIH"
      }
    },
    {
      "cell_type": "code",
      "source": [
        "arr.sum(axis=0)"
      ],
      "metadata": {
        "colab": {
          "base_uri": "https://localhost:8080/"
        },
        "id": "JF2xxP3lD5SM",
        "outputId": "38893859-7a16-4bef-fd07-eef16f43c532"
      },
      "execution_count": null,
      "outputs": [
        {
          "output_type": "execute_result",
          "data": {
            "text/plain": [
              "array([ 0.61091952,  1.78915673,  0.83814844, -0.63139059])"
            ]
          },
          "metadata": {},
          "execution_count": 157
        }
      ]
    },
    {
      "cell_type": "code",
      "source": [
        "# Other methods like comsum and comprod do not aggregate,\n",
        "# instead producing an array of the intermediate results\n",
        "c_arr = np.arange(8)\n",
        "c_arr.cumsum()"
      ],
      "metadata": {
        "colab": {
          "base_uri": "https://localhost:8080/"
        },
        "id": "u5SMtD73EPMN",
        "outputId": "a1a778db-0f27-45ad-fd3e-967d4ee0ddd5"
      },
      "execution_count": null,
      "outputs": [
        {
          "output_type": "execute_result",
          "data": {
            "text/plain": [
              "array([ 0,  1,  3,  6, 10, 15, 21, 28])"
            ]
          },
          "metadata": {},
          "execution_count": 159
        }
      ]
    },
    {
      "cell_type": "code",
      "source": [
        "# Or we can use axis to do cumsum on columns, in multidimentional arrays\n",
        "\n",
        "c2_arr = np.arange(9).reshape(3, 3)\n",
        "c2_arr.cumsum(axis=0)"
      ],
      "metadata": {
        "colab": {
          "base_uri": "https://localhost:8080/"
        },
        "id": "Ijj0aJn6Ew2L",
        "outputId": "177286d4-8488-435b-b798-bba2a98daeee"
      },
      "execution_count": null,
      "outputs": [
        {
          "output_type": "execute_result",
          "data": {
            "text/plain": [
              "array([[ 0,  1,  2],\n",
              "       [ 3,  5,  7],\n",
              "       [ 9, 12, 15]])"
            ]
          },
          "metadata": {},
          "execution_count": 160
        }
      ]
    },
    {
      "cell_type": "code",
      "source": [
        "# We can use .sort to sort the data\n",
        "mix_arr = rng.standard_normal(6)\n",
        "mix_arr"
      ],
      "metadata": {
        "colab": {
          "base_uri": "https://localhost:8080/"
        },
        "id": "Xvi8a4eYFIC4",
        "outputId": "327a5ab9-abcf-46ae-ce8e-c942f8dd4947"
      },
      "execution_count": null,
      "outputs": [
        {
          "output_type": "execute_result",
          "data": {
            "text/plain": [
              "array([ 0.68828179, -1.15452958,  0.65045239, -1.38835995, -0.90738246,\n",
              "       -1.09542531])"
            ]
          },
          "metadata": {},
          "execution_count": 163
        }
      ]
    },
    {
      "cell_type": "code",
      "source": [
        "mix_arr.sort()\n",
        "mix_arr"
      ],
      "metadata": {
        "colab": {
          "base_uri": "https://localhost:8080/"
        },
        "id": "jpbkjejAFbWT",
        "outputId": "0bd767a8-9e75-4cde-a40f-ee9d2ec8bee4"
      },
      "execution_count": null,
      "outputs": [
        {
          "output_type": "execute_result",
          "data": {
            "text/plain": [
              "array([-1.38835995, -1.15452958, -1.09542531, -0.90738246,  0.65045239,\n",
              "        0.68828179])"
            ]
          },
          "metadata": {},
          "execution_count": 164
        }
      ]
    },
    {
      "cell_type": "code",
      "source": [
        "# We can use unique to get the unique values in an array\n",
        "np.unique(names)"
      ],
      "metadata": {
        "colab": {
          "base_uri": "https://localhost:8080/"
        },
        "id": "YUV_6HdTFhQJ",
        "outputId": "e1c0a395-c381-4c51-b352-7bc4b3e9efde"
      },
      "execution_count": null,
      "outputs": [
        {
          "output_type": "execute_result",
          "data": {
            "text/plain": [
              "array(['Bob', 'Joe', 'Will'], dtype='<U4')"
            ]
          },
          "metadata": {},
          "execution_count": 165
        }
      ]
    },
    {
      "cell_type": "code",
      "source": [
        "# We use numpy save and load to efficiently save and\n",
        "# load arrays to a disk. With file extention of .npy.\n",
        "# also savez can save multiple files.\n",
        "np.save(\"first_array\", arr)\n",
        "#...\n",
        "z = np.load('first_array')"
      ],
      "metadata": {
        "id": "5bLQEgK7F_WW"
      },
      "execution_count": null,
      "outputs": []
    },
    {
      "cell_type": "code",
      "source": [],
      "metadata": {
        "id": "itJ7cFSDGmv4"
      },
      "execution_count": null,
      "outputs": []
    },
    {
      "cell_type": "markdown",
      "source": [
        "Linear algebra operations, like matrix multiplication, decompositions, determinants, and other square matrix math, are an important part of many array libraries. Multiplying two two-dimensional arrays with * is an element-wise product, while matrix multiplications require using a function. Thus, there is a function dot, both an array method and a function in the numpy namespace, for matrix multiplication."
      ],
      "metadata": {
        "id": "zNdi9dAeGoP5"
      }
    },
    {
      "cell_type": "code",
      "source": [
        "x = np.array([[1., 2., 3.], [4., 5., 6.]])\n",
        "y = np.array([[6., 23.], [-1, 7], [8, 9]])"
      ],
      "metadata": {
        "id": "y056MOsMG16P"
      },
      "execution_count": null,
      "outputs": []
    },
    {
      "cell_type": "code",
      "source": [
        "x"
      ],
      "metadata": {
        "colab": {
          "base_uri": "https://localhost:8080/"
        },
        "id": "C90s-G11G4Zm",
        "outputId": "c87876df-218e-4b24-87aa-f0237b5a5230"
      },
      "execution_count": null,
      "outputs": [
        {
          "output_type": "execute_result",
          "data": {
            "text/plain": [
              "array([[1., 2., 3.],\n",
              "       [4., 5., 6.]])"
            ]
          },
          "metadata": {},
          "execution_count": 168
        }
      ]
    },
    {
      "cell_type": "code",
      "source": [
        "y"
      ],
      "metadata": {
        "colab": {
          "base_uri": "https://localhost:8080/"
        },
        "id": "7S8HaLJgG5UF",
        "outputId": "f4160acb-49fa-478e-bca9-05fea5fea81b"
      },
      "execution_count": null,
      "outputs": [
        {
          "output_type": "execute_result",
          "data": {
            "text/plain": [
              "array([[ 6., 23.],\n",
              "       [-1.,  7.],\n",
              "       [ 8.,  9.]])"
            ]
          },
          "metadata": {},
          "execution_count": 169
        }
      ]
    },
    {
      "cell_type": "code",
      "source": [
        "x.dot(y)"
      ],
      "metadata": {
        "colab": {
          "base_uri": "https://localhost:8080/"
        },
        "id": "KNRU0sCfG5pt",
        "outputId": "7c6e8c27-33b4-46d5-a86c-4973157a680f"
      },
      "execution_count": null,
      "outputs": [
        {
          "output_type": "execute_result",
          "data": {
            "text/plain": [
              "array([[ 28.,  64.],\n",
              "       [ 67., 181.]])"
            ]
          },
          "metadata": {},
          "execution_count": 170
        }
      ]
    },
    {
      "cell_type": "code",
      "source": [
        "# or\n",
        "np.dot(x, y)"
      ],
      "metadata": {
        "colab": {
          "base_uri": "https://localhost:8080/"
        },
        "id": "m0HIu8OtG7Vs",
        "outputId": "b050c3d6-f632-4b17-d456-0ab66fe8ecaf"
      },
      "execution_count": null,
      "outputs": [
        {
          "output_type": "execute_result",
          "data": {
            "text/plain": [
              "array([[ 28.,  64.],\n",
              "       [ 67., 181.]])"
            ]
          },
          "metadata": {},
          "execution_count": 171
        }
      ]
    },
    {
      "cell_type": "code",
      "source": [
        "x @ np.ones(3)"
      ],
      "metadata": {
        "colab": {
          "base_uri": "https://localhost:8080/"
        },
        "id": "1Aw8YCw0G_gB",
        "outputId": "7d0fd2bb-a495-4b87-f196-c1335b6e20dd"
      },
      "execution_count": null,
      "outputs": [
        {
          "output_type": "execute_result",
          "data": {
            "text/plain": [
              "array([ 6., 15.])"
            ]
          },
          "metadata": {},
          "execution_count": 172
        }
      ]
    },
    {
      "cell_type": "code",
      "source": [
        "# We can use numpy.linalg to do things like inverse and determinant\n",
        "from numpy.linalg import inv, qr\n",
        "X = rng.standard_normal((5, 5))\n",
        "mat = X.T @ X\n",
        "mat"
      ],
      "metadata": {
        "colab": {
          "base_uri": "https://localhost:8080/"
        },
        "id": "iPA_rPchHGIi",
        "outputId": "1fdef764-bfdc-4d22-813c-7cbdd7bb835b"
      },
      "execution_count": null,
      "outputs": [
        {
          "output_type": "execute_result",
          "data": {
            "text/plain": [
              "array([[ 1.88314727,  0.70807782, -1.13747307,  1.17885663,  2.8409201 ],\n",
              "       [ 0.70807782,  2.77407479, -0.46485548, -0.79771956,  3.35838375],\n",
              "       [-1.13747307, -0.46485548,  0.96971355,  0.46801734, -0.91059321],\n",
              "       [ 1.17885663, -0.79771956,  0.46801734,  8.18064516,  5.3865838 ],\n",
              "       [ 2.8409201 ,  3.35838375, -0.91059321,  5.3865838 ,  9.72137582]])"
            ]
          },
          "metadata": {},
          "execution_count": 174
        }
      ]
    },
    {
      "cell_type": "code",
      "source": [
        "inv(mat)"
      ],
      "metadata": {
        "colab": {
          "base_uri": "https://localhost:8080/"
        },
        "id": "5lf2J7pMHaW1",
        "outputId": "5bb7dae4-88ba-43f0-a3f0-7ae4014e64f7"
      },
      "execution_count": null,
      "outputs": [
        {
          "output_type": "execute_result",
          "data": {
            "text/plain": [
              "array([[ 27.12807051,  26.95881277,  17.46513187,  12.588576  ,\n",
              "        -22.58039526],\n",
              "       [ 26.95881277,  39.01766853,  11.30935906,  19.89802718,\n",
              "        -31.32358093],\n",
              "       [ 17.46513187,  11.30935906,  15.65825128,   4.18438755,\n",
              "         -9.86274684],\n",
              "       [ 12.588576  ,  19.89802718,   4.18438755,  10.54804433,\n",
              "        -16.00555337],\n",
              "       [-22.58039526, -31.32358093,  -9.86274684, -16.00555337,\n",
              "         25.46758942]])"
            ]
          },
          "metadata": {},
          "execution_count": 175
        }
      ]
    },
    {
      "cell_type": "code",
      "source": [
        "mat @ inv(mat)"
      ],
      "metadata": {
        "colab": {
          "base_uri": "https://localhost:8080/"
        },
        "id": "-2gRX_dYHd8E",
        "outputId": "c36744c7-ac01-4d9d-802e-8db046b87c62"
      },
      "execution_count": null,
      "outputs": [
        {
          "output_type": "execute_result",
          "data": {
            "text/plain": [
              "array([[ 1.00000000e+00,  2.52877317e-14,  9.70870706e-16,\n",
              "         1.63262779e-14, -5.16643488e-14],\n",
              "       [-6.30502395e-15,  1.00000000e+00, -6.66337768e-15,\n",
              "        -2.41208196e-14,  2.20299717e-14],\n",
              "       [-7.88776910e-15,  2.73226196e-14,  1.00000000e+00,\n",
              "         1.67174408e-15,  5.78261984e-15],\n",
              "       [ 1.32092750e-14,  2.38805980e-14, -2.90339295e-15,\n",
              "         1.00000000e+00, -3.68403770e-14],\n",
              "       [ 6.99875483e-14, -4.33504926e-15, -6.36623028e-15,\n",
              "         3.68440683e-15,  1.00000000e+00]])"
            ]
          },
          "metadata": {},
          "execution_count": 176
        }
      ]
    },
    {
      "cell_type": "markdown",
      "source": [
        "# Final Exercise\n",
        "Write a code that has two identical sized one dimentional arrays one for weights and other for grades.\n",
        "1. Cut everything under 10\n",
        "2. Get the GPA\n",
        "3. Standardize"
      ],
      "metadata": {
        "id": "2r0NTX1vQA-p"
      }
    },
    {
      "cell_type": "code",
      "source": [],
      "metadata": {
        "id": "-zSXYY5ZHgY8"
      },
      "execution_count": null,
      "outputs": []
    }
  ]
}
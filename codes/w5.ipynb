{
  "nbformat": 4,
  "nbformat_minor": 0,
  "metadata": {
    "colab": {
      "provenance": []
    },
    "kernelspec": {
      "name": "python3",
      "display_name": "Python 3"
    },
    "language_info": {
      "name": "python"
    }
  },
  "cells": [
    {
      "cell_type": "markdown",
      "source": [
        "# Python for AI\n",
        "## Week 5 - 5/1/23\n",
        "\n",
        "## Topics\n",
        "* ~~Data Structures~~\n",
        "  * ~~Lists~~\n",
        "  * ~~Tuples~~\n",
        "  * ~~Dictionaries~~\n",
        "  * ~~Sets~~\n",
        "* **Functions**\n",
        "* **Libraries**\n",
        "* **OOP**"
      ],
      "metadata": {
        "id": "fvBvr1dkciWS"
      }
    },
    {
      "cell_type": "code",
      "source": [
        "# Problem from last week\n",
        "a = [1920, 1080, 3]\n",
        "x, y, z = a\n",
        "print(f'The dimentions are {x} x {y} x {z}')\n",
        "\n",
        "# This is called deconstruction or unpacking"
      ],
      "metadata": {
        "colab": {
          "base_uri": "https://localhost:8080/"
        },
        "id": "b65-WQJnkqxH",
        "outputId": "c6e004e9-a1c3-4489-a54f-906c35d5e156"
      },
      "execution_count": null,
      "outputs": [
        {
          "output_type": "stream",
          "name": "stdout",
          "text": [
            "The dimentions are 1920 x 1080 x 3\n"
          ]
        }
      ]
    },
    {
      "cell_type": "markdown",
      "source": [
        "## Why use Functions\n",
        "\n",
        "They are designed to do an specific task when the task is repetitive, instead duplicating your code you call the function again and again.\n",
        "\n",
        "We'll learn ways to pass information to functions. How to write certain functions whose primary job is to *display* information and other functions designed to process data and *return* a value or set of values. Finally, you’ll learn to store functions in separate files called **modules** to help organize your main program files."
      ],
      "metadata": {
        "id": "xn-3bZCqc4VR"
      }
    },
    {
      "cell_type": "code",
      "execution_count": null,
      "metadata": {
        "colab": {
          "base_uri": "https://localhost:8080/"
        },
        "id": "w965oqptchCJ",
        "outputId": "e89288fa-ab09-42d2-d234-e366121ea4a8"
      },
      "outputs": [
        {
          "output_type": "stream",
          "name": "stdout",
          "text": [
            "Hello!\n"
          ]
        }
      ],
      "source": [
        "def greet_user():\n",
        "    '''Function definition def x(args)\n",
        "    anything after the colon is body of the function\n",
        "    Display a simple greeting. This is an example of docstring\n",
        "    Python looks at this when it wants to create generate a documentation'''\n",
        "    print(\"Hello!\")\n",
        "    \n",
        "greet_user()"
      ]
    },
    {
      "cell_type": "code",
      "source": [
        "# We can modify this function by getting an argument from user.\n",
        "def greet_user(username):\n",
        "    print(\"Hello \" + username.title() + \"!\")\n",
        "    \n",
        "greet_user('Javad')"
      ],
      "metadata": {
        "colab": {
          "base_uri": "https://localhost:8080/"
        },
        "id": "Vqx9VnCMfFUG",
        "outputId": "251668ce-14b4-4584-e466-34b888063e4d"
      },
      "execution_count": null,
      "outputs": [
        {
          "output_type": "stream",
          "name": "stdout",
          "text": [
            "Hello Javad!\n"
          ]
        }
      ]
    },
    {
      "cell_type": "markdown",
      "source": [
        "You can either use positional or keyword arguments, the first needs to be passed in order however, in the second each argument has a name and value."
      ],
      "metadata": {
        "id": "A3jqcMKYf11s"
      }
    },
    {
      "cell_type": "code",
      "source": [
        "def price_drink(name, price):\n",
        "    print(f'Your {name} costs: {price}.')\n",
        "\n",
        "price_drink('Cola', 10)\n",
        "price_drink(price=11, name='Fanta')"
      ],
      "metadata": {
        "colab": {
          "base_uri": "https://localhost:8080/"
        },
        "id": "E9qBOvCrfcNy",
        "outputId": "5443ee1a-006c-4176-8684-a8e37ac525f6"
      },
      "execution_count": null,
      "outputs": [
        {
          "output_type": "stream",
          "name": "stdout",
          "text": [
            "Your Cola costs: 10.\n",
            "Your Fanta costs: 11.\n"
          ]
        }
      ]
    },
    {
      "cell_type": "code",
      "source": [
        "# kv args, feature a default value\n",
        "# Just like passing a dictionary as an arguement, these help you with ordering.\n",
        "def pet_owner(name='Harry', pet='Max'):\n",
        "    print(f'Hi {name} you pet is {pet}.')\n",
        "\n",
        "pet_owner('David', 'Rocky')\n",
        "\n",
        "# You can omit the default values\n",
        "# So this can be used a way of getting optional values.\n",
        "pet_owner()"
      ],
      "metadata": {
        "colab": {
          "base_uri": "https://localhost:8080/"
        },
        "id": "a5L-rHhFgk9z",
        "outputId": "6342c7cc-3251-4f5a-e5dd-0c387b9d4695"
      },
      "execution_count": null,
      "outputs": [
        {
          "output_type": "stream",
          "name": "stdout",
          "text": [
            "Hi David you pet is Rocky.\n",
            "Hi Harry you pet is Max.\n"
          ]
        }
      ]
    },
    {
      "cell_type": "code",
      "source": [
        "def get_formatted_name(first_name, last_name, middle_name=''):\n",
        "    \"\"\"Return a full name, neatly formatted.\"\"\"\n",
        "    if len(middle_name) > 0:\n",
        "        full_name = first_name + ' ' + middle_name + ' ' + last_name\n",
        "    else:\n",
        "        full_name = first_name + ' ' + last_name\n",
        "    return full_name.title()\n",
        " \n",
        "musician = get_formatted_name('John', 'Dough', 'Franklin')\n",
        "print(musician)"
      ],
      "metadata": {
        "colab": {
          "base_uri": "https://localhost:8080/"
        },
        "id": "9BnwIK8dmP8A",
        "outputId": "e33f82cf-87f6-4b84-ea0f-df0a64da0e49"
      },
      "execution_count": null,
      "outputs": [
        {
          "output_type": "stream",
          "name": "stdout",
          "text": [
            "John Franklin Dough\n"
          ]
        }
      ]
    },
    {
      "cell_type": "code",
      "source": [
        "# You have to put parameters with default value after all the positional args. \n",
        "def song_name(song='Harry', artist):\n",
        "    print(f'The track {song} is from {artist}.')\n",
        "\n",
        "song_name('David', 'Rocky')"
      ],
      "metadata": {
        "id": "6cdiU42tiUDq",
        "colab": {
          "base_uri": "https://localhost:8080/",
          "height": 130
        },
        "outputId": "889e404b-f0b9-41e0-d8fa-f75060843321"
      },
      "execution_count": null,
      "outputs": [
        {
          "output_type": "error",
          "ename": "SyntaxError",
          "evalue": "ignored",
          "traceback": [
            "\u001b[0;36m  File \u001b[0;32m\"<ipython-input-12-58e59baaf273>\"\u001b[0;36m, line \u001b[0;32m2\u001b[0m\n\u001b[0;31m    def song_name(song='Harry', artist):\u001b[0m\n\u001b[0m                                ^\u001b[0m\n\u001b[0;31mSyntaxError\u001b[0m\u001b[0;31m:\u001b[0m non-default argument follows default argument\n"
          ]
        }
      ]
    },
    {
      "cell_type": "markdown",
      "source": [
        "### Returning a value\n",
        "\n",
        "Most of the times the functions will be used a to process some data and pass to another function to be computed, in this case functions will need to return the value instead of printing it. "
      ],
      "metadata": {
        "id": "Egn9OZvzlVRp"
      }
    },
    {
      "cell_type": "code",
      "source": [
        "def get_formatted_name(first_name, last_name):\n",
        "    \"\"\"Return a full name, neatly formatted.\"\"\"\n",
        "    full_name = first_name + ' ' + last_name\n",
        "    return full_name.title()\n",
        "\n",
        "musician = 'l'\n",
        "print(get_formatted_name('jimi', 'hendrix'))"
      ],
      "metadata": {
        "colab": {
          "base_uri": "https://localhost:8080/"
        },
        "id": "S5JuqAqqjqLT",
        "outputId": "3202868a-6556-4862-c8ba-498a7f02c234"
      },
      "execution_count": null,
      "outputs": [
        {
          "output_type": "stream",
          "name": "stdout",
          "text": [
            "Jimi Hendrix\n"
          ]
        }
      ]
    },
    {
      "cell_type": "code",
      "source": [
        "# A function can return any type of data, including dictionaries. \n",
        "def build_person(first_name, last_name, age = ''):\n",
        "    person = {'First Name': first_name, 'Last Name': last_name}\n",
        "    if age:\n",
        "        person['Age'] = age\n",
        "    return person\n",
        "\n",
        "print(build_person('Farhad', 'Amini', 23))"
      ],
      "metadata": {
        "colab": {
          "base_uri": "https://localhost:8080/"
        },
        "id": "Ug9Ykzlvm0ca",
        "outputId": "d580ad95-594e-4acf-dfc4-679cc9412d3e"
      },
      "execution_count": null,
      "outputs": [
        {
          "output_type": "stream",
          "name": "stdout",
          "text": [
            "{'First Name': 'Farhad', 'Last Name': 'Amini', 'Age': 23}\n"
          ]
        }
      ]
    },
    {
      "cell_type": "code",
      "source": [
        "\"\"\"\n",
        "Write a function called make_album() that builds a dictionary describing a music album.\n",
        "The function should take in an artist name and an album title,\n",
        "and it should return a dictionary containing these two pieces of information.\n",
        "Use the function to make three dictionaries representing different albums.\n",
        "Print each return value to show that the dictionaries are storing the album information correctly .\n",
        "Add an optional parameter to make_album() that allows you to store the number of tracks on an album.\n",
        "If the calling line includes a value for the number of tracks, add that value to the album’s dictionary.\n",
        "Make at least one new function call that includes the number of tracks on an album .\n",
        "\"\"\"\n",
        "\n",
        "def make_album(artist_name, title, tracks=1):\n",
        "    alb_dict = {'artists_name': artist_name, 'title': title}\n",
        "    if tracks:\n",
        "        alb_dict['tracks'] = tracks\n",
        "    return alb_dict\n",
        "\n",
        "print(make_album('The beatles', 'White'))\n",
        "print(make_album('The beatles', 'Sgnt Pepper', 13))"
      ],
      "metadata": {
        "id": "gtgmPSYEnQ0n",
        "colab": {
          "base_uri": "https://localhost:8080/"
        },
        "outputId": "2941db99-fb7a-41c4-cd0e-720517bc32b8"
      },
      "execution_count": null,
      "outputs": [
        {
          "output_type": "stream",
          "name": "stdout",
          "text": [
            "{'artists_name': 'The beatles', 'title': 'White', 'tracks': 1}\n",
            "{'artists_name': 'The beatles', 'title': 'Sgnt Pepper', 'tracks': 13}\n"
          ]
        }
      ]
    },
    {
      "cell_type": "markdown",
      "source": [
        "## Exercise 8-7"
      ],
      "metadata": {
        "id": "8ym2z7zPog61"
      }
    },
    {
      "cell_type": "code",
      "source": [
        "# Code here."
      ],
      "metadata": {
        "id": "2hkb4yowommJ"
      },
      "execution_count": null,
      "outputs": []
    },
    {
      "cell_type": "markdown",
      "source": [
        "### Passing List to Function\n",
        "\n",
        "When working with unknown number of parameters you have to get arguments as list, the interaction will be same as a normal list."
      ],
      "metadata": {
        "id": "X1d8a1Z_oyQX"
      }
    },
    {
      "cell_type": "code",
      "source": [
        "def greet_users(names):\n",
        "    \"\"\"Print a simple greeting to each user in the list.\"\"\"\n",
        "    # names.append('Julia')\n",
        "    for name in names:\n",
        "        msg = \"Hello, \" + name.title() + \"!\"\n",
        "        print(msg)\n",
        "        \n",
        "usernames = ['hannah', 'ty', 'margot']\n",
        "greet_users(usernames)"
      ],
      "metadata": {
        "colab": {
          "base_uri": "https://localhost:8080/"
        },
        "id": "DExvvMa2o0UZ",
        "outputId": "f689fd94-f743-4d2b-c7ce-47c849d4996a"
      },
      "execution_count": null,
      "outputs": [
        {
          "output_type": "stream",
          "name": "stdout",
          "text": [
            "Hello, Hannah!\n",
            "Hello, Ty!\n",
            "Hello, Margot!\n"
          ]
        }
      ]
    },
    {
      "cell_type": "code",
      "source": [
        "# !\n",
        "greet_users('ali')"
      ],
      "metadata": {
        "id": "QIfxAcsVpMYQ",
        "colab": {
          "base_uri": "https://localhost:8080/"
        },
        "outputId": "16c96b65-aea0-442b-a205-3bbd53faaadd"
      },
      "execution_count": null,
      "outputs": [
        {
          "output_type": "stream",
          "name": "stdout",
          "text": [
            "Hello, A!\n",
            "Hello, L!\n",
            "Hello, I!\n"
          ]
        }
      ]
    },
    {
      "cell_type": "markdown",
      "source": [
        "# P147 in the Book"
      ],
      "metadata": {
        "id": "ZJulNaX_qLIt"
      }
    },
    {
      "cell_type": "markdown",
      "source": [
        "Use list slice if you want to pass a copy and use the list itself if you want function to be able to change it.\n",
        "\n",
        "### Passing Arbitary Number of Arguemtns\n",
        "\n",
        "Sometime you don't know how many arguments a function needs to accept. For example if you wanted to order items you wouldn't know while coding how many arguments to get from user. So we will user *arg for getting arbitary number of parameters. These value will get turnt into a tuple even it is just a value.\n"
      ],
      "metadata": {
        "id": "hGiUwucnq8ra"
      }
    },
    {
      "cell_type": "code",
      "source": [
        "def pay_cart(*items):\n",
        "    print(f'You have {len(items)} items in your cart do you want to proceed?')\n",
        "\n",
        "pay_cart('vase')\n",
        "pay_cart('carpet', 'lamp', 'fridge')"
      ],
      "metadata": {
        "colab": {
          "base_uri": "https://localhost:8080/"
        },
        "id": "WdPjbdbZpO1o",
        "outputId": "fec72df7-126c-48d2-c2de-f10d9c2693c3"
      },
      "execution_count": null,
      "outputs": [
        {
          "output_type": "stream",
          "name": "stdout",
          "text": [
            "You have 1 items in your cart do you want to proceed?\n",
            "You have 3 items in your cart do you want to proceed?\n"
          ]
        }
      ]
    },
    {
      "cell_type": "code",
      "source": [
        "def pay_cart_loop(*items):\n",
        "    print('You wanted: ')\n",
        "    for item in items:\n",
        "        print(\"- \"+item)\n",
        "\n",
        "pay_cart_loop('vase')\n",
        "pay_cart_loop('carpet', 'lamp', 'fridge')"
      ],
      "metadata": {
        "colab": {
          "base_uri": "https://localhost:8080/"
        },
        "id": "ujm2vNdar9mD",
        "outputId": "53f00470-5c0c-48d1-fc04-e11253e2abad"
      },
      "execution_count": null,
      "outputs": [
        {
          "output_type": "stream",
          "name": "stdout",
          "text": [
            "You wanted: \n",
            "- vase\n",
            "You wanted: \n",
            "- carpet\n",
            "- lamp\n",
            "- fridge\n"
          ]
        }
      ]
    },
    {
      "cell_type": "code",
      "source": [
        "# like kv arguments if you want to \n",
        "# recieve multiple items it has to be the last argument\n",
        "\n",
        "def info(first_name, last_name, *others):\n",
        "    print(f'{first_name} - {last_name}: {others}')\n",
        "\n",
        "info('Hamid', 'Rezaei', 'Pizza', 'Pasta', 'Lasagna')"
      ],
      "metadata": {
        "colab": {
          "base_uri": "https://localhost:8080/"
        },
        "id": "Co2gSSDZsfXp",
        "outputId": "ed283445-f0fb-4fb5-e42a-e1b2043d2b98"
      },
      "execution_count": null,
      "outputs": [
        {
          "output_type": "stream",
          "name": "stdout",
          "text": [
            "Hamid - Rezaei: ('Pizza', 'Pasta', 'Lasagna')\n"
          ]
        }
      ]
    },
    {
      "cell_type": "code",
      "source": [
        "# Sometimes you will want to accept many k-v arguments\n",
        "# but you don't konw ahead of time. For example when building contacts\n",
        "\n",
        "def build_profile(first, last, **user_info):\n",
        "    \"\"\"Build a dictionary containing everything we know about a user.\"\"\"\n",
        "    profile = {}\n",
        "    profile['first_name'] = first\n",
        "    profile['last_name'] = last\n",
        "    for key, value in user_info.items():\n",
        "        profile[key] = value\n",
        "    return profile\n",
        "\n",
        "user_profile = build_profile('albert', 'einstein',\n",
        "                             location='princeton',\n",
        "                             field='physics')\n",
        "print(user_profile)"
      ],
      "metadata": {
        "id": "PE3oV4CotNGT"
      },
      "execution_count": null,
      "outputs": []
    },
    {
      "cell_type": "markdown",
      "source": [
        "## Modules\n",
        "One advantage of having funciton is seperating a block of code from the rest of your code. This is called abstraction (DETAILED EXPLAINATION - NAND TO TETRIS) by using names instead of whole code your main program will be easier to read and maintain. In more advanced programs functions are kept at a different file called a module and then you import it into the main program. An import statement tells Python to make the code in the module available in the current program. This will help you hide details and focus on the higher lever logic. You can also share your functions easier with others.\n",
        "\n",
        "Important Standard Library:\n",
        "* time\n",
        "* sys\n",
        "* os\n",
        "* math\n",
        "* random\n",
        "* pickle\n",
        "* urllib\n",
        "* re\n",
        "* cgi\n",
        "* socket\n",
        "\n",
        "\n",
        "### Importing\n",
        "To import a function we need to first create a module a module is a file ending in .py format that contains the code you want to import.\n",
        "\n",
        "### Styling\n",
        "P158"
      ],
      "metadata": {
        "id": "1QlqcFksvSAf"
      }
    },
    {
      "cell_type": "markdown",
      "source": [
        "## This Week's Exercies\n",
        "8-14 - P154\n",
        "\n",
        "Cars: Write a function that stores information about a car in a dictionary. Import the function which should always receive a manufacturer and a model name. It should then accept an arbitrary number of keyword arguments. Call the function with the required information and two other name-value pairs, such as a color or an optional feature. Your function should work for a call like this one:\n",
        "    car = make_car('subaru', 'outback', color='blue', tow_package=True)\n",
        "Print the dictionary that’s returned to make sure all the information was \n",
        "stored correctly."
      ],
      "metadata": {
        "id": "SFf55xjBvB77"
      }
    },
    {
      "cell_type": "code",
      "source": [],
      "metadata": {
        "id": "snkLyXFmud-t"
      },
      "execution_count": null,
      "outputs": []
    }
  ]
}
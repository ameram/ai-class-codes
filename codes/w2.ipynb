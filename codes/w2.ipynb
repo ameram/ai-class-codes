{
  "cells": [
    {
      "cell_type": "markdown",
      "metadata": {
        "id": "okFmHotqJItK"
      },
      "source": [
        "# PART I:\n",
        "# How to install and run Python\n",
        "\n",
        "The Book [Pyton Crash Course](http://libgen.is/search.php?req=Eric%20Matthes&column[]=author).\n",
        "\n",
        "[Python Website](https://www.python.org/) \n",
        "\n",
        "[Anaconda](https://www.anaconda.com/)"
      ]
    },
    {
      "cell_type": "markdown",
      "metadata": {
        "id": "2G_ieewjMwoU"
      },
      "source": [
        "TOC\n",
        "* Variable and naming\n",
        "* Reading error messages\n",
        "* Ints\n",
        "* Lists"
      ]
    },
    {
      "cell_type": "code",
      "execution_count": null,
      "metadata": {
        "colab": {
          "base_uri": "https://localhost:8080/"
        },
        "id": "4NIQcBHnRY_J",
        "outputId": "6b739d1d-60c0-42be-d0fe-efd8d5e618fd"
      },
      "outputs": [
        {
          "name": "stdout",
          "output_type": "stream",
          "text": [
            "Hello world\n",
            "Hello world\n"
          ]
        }
      ],
      "source": [
        "print('Hello world')\n",
        "print(\"Hello world\")"
      ]
    },
    {
      "cell_type": "code",
      "execution_count": null,
      "metadata": {
        "colab": {
          "base_uri": "https://localhost:8080/"
        },
        "id": "WL7gEnaRNNkM",
        "outputId": "09635616-a819-4eac-cb5f-e9ce6f16c439"
      },
      "outputs": [
        {
          "name": "stdout",
          "output_type": "stream",
          "text": [
            "Hi, eveyone my name is: Jamal.\n",
            "Hi, eveyone my name is: Jamal.\n",
            "('Hi, eveyone my name is: ', 'Jamal.')\n"
          ]
        }
      ],
      "source": [
        "pt1 = 'Hi, eveyone my name is: '\n",
        "pt2 = 'Jamal.'\n",
        "full_string = pt1 + pt2\n",
        "full_string_f = f'{pt1}{pt2}'\n",
        "full_string_2 = pt1, pt2\n",
        "\n",
        "print(full_string)\n",
        "print(full_string_f)\n",
        "print(full_string_2)"
      ]
    },
    {
      "cell_type": "code",
      "execution_count": null,
      "metadata": {
        "colab": {
          "base_uri": "https://localhost:8080/"
        },
        "id": "L2DsAYGLM_5r",
        "outputId": "333490d6-d8f0-478c-ebdf-e630e28aab88"
      },
      "outputs": [
        {
          "name": "stdout",
          "output_type": "stream",
          "text": [
            "<class 'str'>\n",
            "Hello Python world!\n"
          ]
        }
      ],
      "source": [
        "message = \"Hello Python world!\"\n",
        "print(type(message))\n",
        "print(message)"
      ]
    },
    {
      "cell_type": "code",
      "execution_count": null,
      "metadata": {
        "colab": {
          "base_uri": "https://localhost:8080/",
          "height": 198
        },
        "id": "jFrJYDCmJjUr",
        "outputId": "e93908bd-6df9-4115-e766-83414d34b9f6"
      },
      "outputs": [
        {
          "ename": "NameError",
          "evalue": "ignored",
          "output_type": "error",
          "traceback": [
            "\u001b[0;31m---------------------------------------------------------------------------\u001b[0m",
            "\u001b[0;31mNameError\u001b[0m                                 Traceback (most recent call last)",
            "\u001b[0;32m<ipython-input-5-d19de2d96c1f>\u001b[0m in \u001b[0;36m<cell line: 4>\u001b[0;34m()\u001b[0m\n\u001b[1;32m      2\u001b[0m \u001b[0;34m\u001b[0m\u001b[0m\n\u001b[1;32m      3\u001b[0m \u001b[0mmessage\u001b[0m \u001b[0;34m=\u001b[0m \u001b[0;34m\"Hello Python Crash Course reader!\"\u001b[0m\u001b[0;34m\u001b[0m\u001b[0;34m\u001b[0m\u001b[0m\n\u001b[0;32m----> 4\u001b[0;31m \u001b[0mprint\u001b[0m\u001b[0;34m(\u001b[0m\u001b[0mmesage\u001b[0m\u001b[0;34m)\u001b[0m\u001b[0;34m\u001b[0m\u001b[0;34m\u001b[0m\u001b[0m\n\u001b[0m",
            "\u001b[0;31mNameError\u001b[0m: name 'mesage' is not defined"
          ]
        }
      ],
      "source": [
        "# Getting errors\n",
        "\n",
        "message = \"Hello Python Crash Course reader!\"\n",
        "print(mesage)"
      ]
    },
    {
      "cell_type": "code",
      "execution_count": null,
      "metadata": {
        "colab": {
          "base_uri": "https://localhost:8080/"
        },
        "id": "ITBmsdg0N_AC",
        "outputId": "442b2c6d-3c6c-4620-f10d-f5d7d95af160"
      },
      "outputs": [
        {
          "name": "stdout",
          "output_type": "stream",
          "text": [
            "Hello python crash course reader!\n",
            "HELLO PYTHON CRASH COURSE READER!\n",
            "hello python crash course reader!\n",
            "False\n",
            "False\n",
            "False\n",
            "False\n",
            "False\n",
            "1\n",
            "15\n",
            "False\n",
            "True\n",
            "Hello Python Awesome Course reader!\n",
            "['Hello', 'Python', 'Crash', 'Course', 'reader!']\n",
            "('Hello ', 'Python', ' Crash Course reader!')\n",
            "Hello Python Crash Course reader!\n"
          ]
        }
      ],
      "source": [
        "# String func\n",
        "print(message.capitalize())\n",
        "print(message.upper())\n",
        "print(message.lower())\n",
        "print(message.isupper())\n",
        "print(message.islower())\n",
        "print(message.isnumeric())\n",
        "print(message.isalpha())\n",
        "print(message.isalnum())\n",
        "print(message.count(\"H\"))\n",
        "print(message.find(\"a\"))\n",
        "print(message.startswith(\"A\"))\n",
        "print(message.endswith(\"!\"))\n",
        "print(message.replace(\"Crash\", \"Awesome\"))\n",
        "print(message.split())\n",
        "print(message.partition(\"Python\"))\n",
        "print(message.rstrip())"
      ]
    },
    {
      "cell_type": "code",
      "execution_count": null,
      "metadata": {
        "id": "eVbsZNLfO7Gn"
      },
      "outputs": [],
      "source": [
        "message.find?"
      ]
    },
    {
      "cell_type": "code",
      "execution_count": null,
      "metadata": {
        "colab": {
          "background_save": true
        },
        "id": "-rvW81ETQKKQ",
        "outputId": "7b7b9379-d003-4ed0-c763-5e8a1385d5c5"
      },
      "outputs": [
        {
          "data": {
            "text/plain": [
              "2"
            ]
          },
          "execution_count": 8,
          "metadata": {},
          "output_type": "execute_result"
        }
      ],
      "source": [
        "9+4\n",
        "9-4\n",
        "9*4\n",
        "9**4\n",
        "9/4\n",
        "9//4"
      ]
    },
    {
      "cell_type": "code",
      "execution_count": null,
      "metadata": {
        "colab": {
          "base_uri": "https://localhost:8080/"
        },
        "id": "_vpmNzl1QMEL",
        "outputId": "79ea887f-fd04-40fa-d439-23be0dc0e6e9"
      },
      "outputs": [
        {
          "data": {
            "text/plain": [
              "0.30000000000000004"
            ]
          },
          "execution_count": 9,
          "metadata": {},
          "output_type": "execute_result"
        }
      ],
      "source": [
        "0.2+0.1"
      ]
    },
    {
      "cell_type": "code",
      "execution_count": null,
      "metadata": {
        "colab": {
          "base_uri": "https://localhost:8080/"
        },
        "id": "zzX1JN3zQrLZ",
        "outputId": "47691cdc-66ce-4bf4-abbe-633364b17c07"
      },
      "outputs": [
        {
          "name": "stdout",
          "output_type": "stream",
          "text": [
            "14\n"
          ]
        }
      ],
      "source": [
        "print(str(int(14)))"
      ]
    },
    {
      "cell_type": "code",
      "execution_count": null,
      "metadata": {
        "id": "zUPOjPrRQyTt"
      },
      "outputs": [],
      "source": [
        "age = 23\n",
        "message = \"Happy \" + age + \"rd Birthday!\"\n",
        "print(message)"
      ]
    },
    {
      "cell_type": "code",
      "execution_count": null,
      "metadata": {
        "colab": {
          "base_uri": "https://localhost:8080/"
        },
        "id": "FDi8BxZCQ38b",
        "outputId": "1ec72bc0-99f0-443e-91fb-4d17e76eeb3e"
      },
      "outputs": [
        {
          "output_type": "stream",
          "name": "stdout",
          "text": [
            "Mercedes\n",
            "Toyota\n",
            "Porsche\n"
          ]
        }
      ],
      "source": [
        "car_makes = ['Mercedes', 'Toyota', 'Honda', 'Porsche']\n",
        "print(car_makes[0])\n",
        "print(car_makes[1])\n",
        "\n",
        "print(car_makes[-1])"
      ]
    },
    {
      "cell_type": "code",
      "execution_count": null,
      "metadata": {
        "colab": {
          "base_uri": "https://localhost:8080/"
        },
        "id": "zUM2ANTqR-te",
        "outputId": "ca305fd8-776d-4352-e201-faf95043bee0"
      },
      "outputs": [
        {
          "name": "stdout",
          "output_type": "stream",
          "text": [
            "['Aston Martin', 'Mercedes', 'Acura', 'Acura', 'Porsche', 'Pagani', 'Pagani']\n",
            "['Aston Martin', 'Aston Martin', 'Mercedes', 'Acura', 'Acura', 'Porsche', 'Pagani', 'Pagani']\n",
            "['Aston Martin', 'Mercedes', 'Acura', 'Acura', 'Porsche', 'Pagani', 'Pagani']\n"
          ]
        }
      ],
      "source": [
        "# Mutation\n",
        "car_makes[2] = \"Acura\"\n",
        "car_makes.append('Pagani')\n",
        "print(car_makes)\n",
        "car_makes.insert(0, 'Aston Martin')\n",
        "print(car_makes)\n",
        "del car_makes[0]\n",
        "print(car_makes)"
      ]
    },
    {
      "cell_type": "code",
      "execution_count": null,
      "metadata": {
        "colab": {
          "base_uri": "https://localhost:8080/"
        },
        "id": "rqqyTV-xSXMf",
        "outputId": "3ba0a147-9606-4932-c20c-21c912395a08"
      },
      "outputs": [
        {
          "name": "stdout",
          "output_type": "stream",
          "text": [
            "Pagani\n"
          ]
        }
      ],
      "source": [
        "out = car_makes.pop() # Pass position as arg\n",
        "print(out)"
      ]
    },
    {
      "cell_type": "code",
      "execution_count": null,
      "metadata": {
        "colab": {
          "base_uri": "https://localhost:8080/"
        },
        "id": "2ye730SdS-Ct",
        "outputId": "fbb3627a-0def-4aa7-e8e5-a01bce0223db"
      },
      "outputs": [
        {
          "name": "stdout",
          "output_type": "stream",
          "text": [
            "['Aston Martin', 'Mercedes', 'Porsche', 'Pagani']\n"
          ]
        }
      ],
      "source": [
        "car_makes.remove('Acura')\n",
        "print(car_makes)"
      ]
    },
    {
      "cell_type": "code",
      "execution_count": null,
      "metadata": {
        "colab": {
          "base_uri": "https://localhost:8080/"
        },
        "id": "jtCFGDoNTKrT",
        "outputId": "5e5c6039-64d9-4e91-dbe1-b58c8d1c1516"
      },
      "outputs": [
        {
          "name": "stdout",
          "output_type": "stream",
          "text": [
            "[99, 2, 3]\n",
            "[1, 2, 3]\n"
          ]
        }
      ],
      "source": [
        "x = [1, 2, 3]\n",
        "z = x\n",
        "y = x.copy()\n",
        "x[0] = 99\n",
        "print(x)\n",
        "print(z)\n",
        "print(y)"
      ]
    },
    {
      "cell_type": "code",
      "execution_count": null,
      "metadata": {
        "colab": {
          "base_uri": "https://localhost:8080/"
        },
        "id": "VN7eFL4UTaQT",
        "outputId": "f407a9ef-7dd4-42e5-aca0-95653461d6f0"
      },
      "outputs": [
        {
          "name": "stdout",
          "output_type": "stream",
          "text": [
            "['Aston Martin', 'Mercedes', 'Pagani', 'Porsche']\n"
          ]
        },
        {
          "data": {
            "text/plain": [
              "['Aston Martin', 'Mercedes', 'Pagani', 'Porsche']"
            ]
          },
          "execution_count": 32,
          "metadata": {},
          "output_type": "execute_result"
        }
      ],
      "source": [
        "car_makes.sort()\n",
        "\n",
        "# These two differ!\n",
        "# cars.sort(reverse=True)\n",
        "# cars.reverse()\n",
        "\n",
        "print(car_makes)\n",
        "sorted(car_makes)"
      ]
    },
    {
      "cell_type": "code",
      "execution_count": null,
      "metadata": {
        "id": "asuRGWylTmDd"
      },
      "outputs": [],
      "source": []
    }
  ],
  "metadata": {
    "colab": {
      "provenance": []
    },
    "kernelspec": {
      "display_name": "Python 3",
      "name": "python3"
    },
    "language_info": {
      "name": "python"
    }
  },
  "nbformat": 4,
  "nbformat_minor": 0
}
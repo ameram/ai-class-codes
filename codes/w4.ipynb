{
  "nbformat": 4,
  "nbformat_minor": 0,
  "metadata": {
    "colab": {
      "provenance": []
    },
    "kernelspec": {
      "name": "python3",
      "display_name": "Python 3"
    },
    "language_info": {
      "name": "python"
    }
  },
  "cells": [
    {
      "cell_type": "markdown",
      "source": [
        "# Python for AI\n",
        "## Week 4 - 4/24/23\n",
        "\n",
        "## Topics\n",
        "* Data Structures\n",
        "  * ~~Lists~~\n",
        "  * ~~Tuples~~\n",
        "  * **Dictionaries**\n",
        "  * **Sets**\n",
        "* Functions\n",
        "* Libraries\n",
        "* OOP"
      ],
      "metadata": {
        "id": "0aC5DDgP-ngZ"
      }
    },
    {
      "cell_type": "markdown",
      "source": [
        "## [Lists]\n",
        "### 1-1) Chekcing the List\n",
        "Check whether something is in the list or not with **in** and **not in**."
      ],
      "metadata": {
        "id": "dPeIUo6U_lwg"
      }
    },
    {
      "cell_type": "code",
      "execution_count": null,
      "metadata": {
        "colab": {
          "base_uri": "https://localhost:8080/"
        },
        "id": "8TQLdHRL-jrN",
        "outputId": "b5539cdd-a4d2-4b38-8a48-fa356f4f85ef"
      },
      "outputs": [
        {
          "output_type": "stream",
          "name": "stdout",
          "text": [
            "Found.\n"
          ]
        }
      ],
      "source": [
        "lps = ['The Final Cut', 'The Dark Side of the Moon', 'Animals']\n",
        "\n",
        "# You can change in to not in.\n",
        "if 'animals' not in lps:\n",
        "\tprint('Found.')\n",
        "else:\n",
        "\tprint('Not found.')"
      ]
    },
    {
      "cell_type": "markdown",
      "source": [
        "Suppose we want to see if there is a 'Mohsen' in our users list. We can get the input and check it."
      ],
      "metadata": {
        "id": "ExpMLdCyAOV4"
      }
    },
    {
      "cell_type": "code",
      "source": [
        "users = ['kambiz', 'shahram', 'abolfazl']\n",
        "query_user = input('Enter the name: ').lower()\n",
        "\n",
        "if query_user in users:\n",
        "\tprint(f'Found {query_user} in the list.')\n",
        "else:\n",
        "\tprint('Not found.')\n"
      ],
      "metadata": {
        "colab": {
          "base_uri": "https://localhost:8080/"
        },
        "id": "iI59hULX_vkj",
        "outputId": "80df1989-d71e-4626-e9d5-deeb688810a2"
      },
      "execution_count": null,
      "outputs": [
        {
          "output_type": "stream",
          "name": "stdout",
          "text": [
            "Enter the name: kambIz\n",
            "Found kambiz in the list.\n"
          ]
        }
      ]
    },
    {
      "cell_type": "markdown",
      "source": [
        "### 1-2) Multiple ifs and elifs"
      ],
      "metadata": {
        "id": "GATgIoU7Bj_6"
      }
    },
    {
      "cell_type": "code",
      "source": [
        "requested_toppings = ['mushrooms', 'extra cheese']\n",
        "\n",
        "if 'mushrooms' in requested_toppings:\n",
        "  print(\"Adding mushrooms.\")\n",
        "if 'pepperoni' in requested_toppings:\n",
        "  print(\"Adding pepperoni.\")\n",
        "if 'extra cheese' in requested_toppings:\n",
        "  print(\"Adding extra cheese.\")\n",
        "print(\"\\nFinished making your pizza!\")"
      ],
      "metadata": {
        "id": "hxLUKghXBljv",
        "colab": {
          "base_uri": "https://localhost:8080/"
        },
        "outputId": "03a4d3b5-bffb-4ed9-f378-a423fd1864df"
      },
      "execution_count": null,
      "outputs": [
        {
          "output_type": "stream",
          "name": "stdout",
          "text": [
            "Adding mushrooms.\n",
            "Adding extra cheese.\n",
            "\n",
            "Finished making your pizza!\n"
          ]
        }
      ]
    },
    {
      "cell_type": "code",
      "source": [
        "requested_toppings = ['mushrooms', 'extra cheese']\n",
        "\n",
        "if 'mushrooms' in requested_toppings:\n",
        "  print(\"Adding mushrooms.\")\n",
        "elif 'pepperoni' in requested_toppings:\n",
        "  print(\"Adding pepperoni.\")\n",
        "elif 'extra cheese' in requested_toppings:\n",
        "  print(\"Adding extra cheese.\")\n",
        "print(\"\\nFinished making your pizza!\")"
      ],
      "metadata": {
        "id": "0xIm6Q3sCQyk",
        "colab": {
          "base_uri": "https://localhost:8080/"
        },
        "outputId": "0bb0b856-3e06-4234-82fa-ea9062a8d61c"
      },
      "execution_count": null,
      "outputs": [
        {
          "output_type": "stream",
          "name": "stdout",
          "text": [
            "Adding mushrooms.\n",
            "\n",
            "Finished making your pizza!\n"
          ]
        }
      ]
    },
    {
      "cell_type": "markdown",
      "source": [
        "#### Exercise 5-3. (p88)\n",
        "**Alien Colors #1**: Imagine an alien was just shot down in a game . Create a variable called alien_color and assign it a value of 'green', 'yellow', or 'red'.\n",
        "* Write an if statement to test whether the alien’s color is green . If it is, print a message that the player just earned 5 points .\n",
        "* Write one version of this program that passes the if test and another that fails . (The version that fails will have no output .)\n",
        "\n",
        "\n",
        "---\n",
        "\n",
        "\n",
        "**Alien Colors #2**: Choose a color for an alien as you did in Exercise 5-3, and write an if-else chain .\n",
        "* If the alien’s color is green, print a statement that the player just earned 5 points for shooting the alien .\n",
        "* If the alien’s color isn’t green, print a statement that the player just earned 10 points .\n",
        "* Write one version of this program that runs the if block and another that runs the else block .\n"
      ],
      "metadata": {
        "id": "WojpSeFACyLV"
      }
    },
    {
      "cell_type": "code",
      "source": [
        "alien_color = 'red'\n",
        "\n",
        "if alien_color == 'green':\n",
        "    print('you earned 5 pts.')\n",
        "elif not alien_color == 'green':\n",
        "    print('you earned 1 pts.')"
      ],
      "metadata": {
        "colab": {
          "base_uri": "https://localhost:8080/"
        },
        "id": "OKGDkPDotuBN",
        "outputId": "0ecc71e6-3044-4768-c981-7531714fc2da"
      },
      "execution_count": null,
      "outputs": [
        {
          "output_type": "stream",
          "name": "stdout",
          "text": [
            "you earned 1 pts.\n"
          ]
        }
      ]
    },
    {
      "cell_type": "markdown",
      "source": [
        "## {Dictionaries}\n",
        "\n",
        "Suppose we want to store each country with its respective population. Using two lists for this would be confusing. A dictionary in python is collection of key-value pairs, there is a value for each key. A key can be a number, string, list or even another dictionary.\n",
        "\n",
        "\n",
        "A key-value pair is a set of values associated with each other. When you provide a key, Python returns the value associated with that key. Every key is connected to its value by a colon, and individual key-value pairs are sepa- rated by commas. You can store as many key-value pairs as you want in a dictionary."
      ],
      "metadata": {
        "id": "kEDCYaxGbLJh"
      }
    },
    {
      "cell_type": "code",
      "source": [
        "alien_0 = {'color': 'green'}"
      ],
      "metadata": {
        "id": "CvpoLbIJbstA"
      },
      "execution_count": null,
      "outputs": []
    },
    {
      "cell_type": "code",
      "source": [
        "print(alien_0['color'])"
      ],
      "metadata": {
        "id": "SMoa3OqobtKj",
        "colab": {
          "base_uri": "https://localhost:8080/"
        },
        "outputId": "cb7fd72b-ac24-40e6-d9b0-03c2bc41b5b3"
      },
      "execution_count": null,
      "outputs": [
        {
          "output_type": "stream",
          "name": "stdout",
          "text": [
            "green\n"
          ]
        }
      ]
    },
    {
      "cell_type": "markdown",
      "source": [
        "### Adding to a Dictionary\n",
        "\n",
        "Dictionaries are dynamic structures, and you can add new key-value pairs to a dictionary at any time. For example, to add a new key-value pair, you would give the name of the dictionary followed by the new key in square brackets along with the new value. You can also start with an empty dictionary.\n"
      ],
      "metadata": {
        "id": "41a7uiVucA7r"
      }
    },
    {
      "cell_type": "code",
      "source": [
        "alien_0['points'] = 5\n",
        "alien_0"
      ],
      "metadata": {
        "id": "dYKXlHubcILv",
        "colab": {
          "base_uri": "https://localhost:8080/"
        },
        "outputId": "4c9e1ae2-4a1f-4cfa-b3a9-2cc76f8f7532"
      },
      "execution_count": null,
      "outputs": [
        {
          "output_type": "execute_result",
          "data": {
            "text/plain": [
              "{'color': 'green', 'points': 5}"
            ]
          },
          "metadata": {},
          "execution_count": 16
        }
      ]
    },
    {
      "cell_type": "code",
      "source": [
        "# adding to an empty dictionary.\n",
        "student_info = {}\n",
        "student_info['Name'] = 'Danial'\n",
        "student_info['ID'] = 234212\n",
        "student_info['Gender'] = 'M'\n",
        "\n",
        "print(student_info)"
      ],
      "metadata": {
        "colab": {
          "base_uri": "https://localhost:8080/"
        },
        "id": "wohGBsGIcNT8",
        "outputId": "6e88baa8-4d77-41d1-b267-830e4e13589c"
      },
      "execution_count": null,
      "outputs": [
        {
          "output_type": "stream",
          "name": "stdout",
          "text": [
            "{'Name': 'Danial', 'ID': 234212, 'Gender': 'M'}\n"
          ]
        }
      ]
    },
    {
      "cell_type": "code",
      "source": [
        "# removing a k/v pair\n",
        "del student_info['Gender']"
      ],
      "metadata": {
        "id": "MMBjwyHsc0JN"
      },
      "execution_count": null,
      "outputs": []
    },
    {
      "cell_type": "code",
      "source": [
        "print(student_info)"
      ],
      "metadata": {
        "colab": {
          "base_uri": "https://localhost:8080/"
        },
        "id": "tWpq472uu4mU",
        "outputId": "0706e1a7-64b3-4017-b4f9-b6e1a6b9c9ec"
      },
      "execution_count": null,
      "outputs": [
        {
          "output_type": "stream",
          "name": "stdout",
          "text": [
            "{'Name': 'Danial', 'ID': 234212}\n"
          ]
        }
      ]
    },
    {
      "cell_type": "markdown",
      "source": [
        "You can use dictionary to store information about one kind of information about many objects. For example favorite programming languages of people."
      ],
      "metadata": {
        "id": "Pcsxnfz6dxvg"
      }
    },
    {
      "cell_type": "code",
      "source": [
        "# watch out for indents\n",
        "\n",
        "favorite_languages = {\n",
        "       'jen': 'scala',\n",
        "       'sarah': 'lisp',\n",
        "       'edward': 'fortran',\n",
        "       'phil': 'julia',\n",
        "       'andy': 'lisp'\n",
        "       }\n",
        "\n",
        "print(\"Sarah's favorite language is \" +\n",
        "    favorite_languages['sarah'].title() +\n",
        "    \".\")\n",
        "\n"
      ],
      "metadata": {
        "colab": {
          "base_uri": "https://localhost:8080/"
        },
        "id": "y7ptZurpdVXT",
        "outputId": "db717132-c7f6-44b9-9258-bd5e76cf1313"
      },
      "execution_count": null,
      "outputs": [
        {
          "output_type": "stream",
          "name": "stdout",
          "text": [
            "Sarah's favorite language is Lisp.\n"
          ]
        }
      ]
    },
    {
      "cell_type": "markdown",
      "source": [
        "### Looping Through a Dictionary\n",
        "\n",
        "There are several ways to loop through a dictionary. You can use for loop but it would need 2 temporary variables for storing information."
      ],
      "metadata": {
        "id": "4v2y0kPUedy_"
      }
    },
    {
      "cell_type": "code",
      "source": [
        "for key, value in student_info.items():\n",
        "    print (f'{key} is {value}')"
      ],
      "metadata": {
        "colab": {
          "base_uri": "https://localhost:8080/"
        },
        "id": "txeg-N6Aeb-s",
        "outputId": "b137ba59-5e8d-4af7-a58c-4fc1ebe3e23a"
      },
      "execution_count": null,
      "outputs": [
        {
          "output_type": "stream",
          "name": "stdout",
          "text": [
            "Name is Danial\n",
            "ID is 234212\n"
          ]
        }
      ]
    },
    {
      "cell_type": "code",
      "source": [
        "print(type(student_info.items()))\n",
        "print(student_info.items())"
      ],
      "metadata": {
        "colab": {
          "base_uri": "https://localhost:8080/"
        },
        "id": "YY3VKdo4gZw4",
        "outputId": "453780a0-d961-48bb-903d-208df53a5027"
      },
      "execution_count": null,
      "outputs": [
        {
          "output_type": "stream",
          "name": "stdout",
          "text": [
            "<class 'dict_items'>\n",
            "dict_items([('Name', 'Danial'), ('ID', 234212)])\n"
          ]
        }
      ]
    },
    {
      "cell_type": "code",
      "source": [
        "drink = ['Esspresso', 'Double Esspressor', 'Latte', 'Mochiato']"
      ],
      "metadata": {
        "id": "AAAskChzzQkM"
      },
      "execution_count": null,
      "outputs": []
    },
    {
      "cell_type": "code",
      "source": [
        "prices = [35, 50, 70, 80]"
      ],
      "metadata": {
        "id": "EkznRCe6zaeT"
      },
      "execution_count": null,
      "outputs": []
    },
    {
      "cell_type": "code",
      "source": [
        "items_of_menu {}\n",
        "\n",
        "for i, j in zip(drink, prices):\n",
        "    items_of_menu[i] = j"
      ],
      "metadata": {
        "id": "M6Lsp9Bsze6r"
      },
      "execution_count": null,
      "outputs": []
    },
    {
      "cell_type": "code",
      "source": [
        "# looping through all the keys and all the values\n",
        "\n",
        "print('Fields')\n",
        "for field in student_info.keys():\n",
        "    print(f'Field is {field}')\n",
        "\n",
        "print('\\nVALUES')\n",
        "for value in student_info.values():\n",
        "    print(f'Field is {value}')"
      ],
      "metadata": {
        "colab": {
          "base_uri": "https://localhost:8080/"
        },
        "id": "G_6x4tGqggpm",
        "outputId": "33a69cb2-9325-41d0-bb11-4821b554a174"
      },
      "execution_count": null,
      "outputs": [
        {
          "output_type": "stream",
          "name": "stdout",
          "text": [
            "Fields\n",
            "Field is Name\n",
            "Field is ID\n",
            "\n",
            "VALUES\n",
            "Field is Danial\n",
            "Field is 234212\n"
          ]
        }
      ]
    },
    {
      "cell_type": "markdown",
      "source": [
        "## Sets"
      ],
      "metadata": {
        "id": "Z592wwQqk8AT"
      }
    },
    {
      "cell_type": "code",
      "source": [
        "# Value might be redundant, you can use sets to solve this problems.\n",
        "\n",
        "len(favorite_languages.values())"
      ],
      "metadata": {
        "colab": {
          "base_uri": "https://localhost:8080/"
        },
        "id": "iGNJZr2lgy6r",
        "outputId": "3f8a680d-c9b5-4cbd-8396-81949e1f5688"
      },
      "execution_count": null,
      "outputs": [
        {
          "output_type": "execute_result",
          "data": {
            "text/plain": [
              "5"
            ]
          },
          "metadata": {},
          "execution_count": 27
        }
      ]
    },
    {
      "cell_type": "code",
      "source": [
        "print(len(set(favorite_languages.values())))\n",
        "print(set(favorite_languages.values()))"
      ],
      "metadata": {
        "colab": {
          "base_uri": "https://localhost:8080/"
        },
        "id": "Z8AyMDJmhle-",
        "outputId": "68af5317-716a-4485-9eaf-486fabeb9368"
      },
      "execution_count": null,
      "outputs": [
        {
          "output_type": "stream",
          "name": "stdout",
          "text": [
            "4\n",
            "{'fortran', 'julia', 'lisp', 'scala'}\n"
          ]
        }
      ]
    },
    {
      "cell_type": "code",
      "source": [
        "fib = set([1, 1, 2, 3, 5, 8, 13, 21, 34, 55, 89, 144])\n",
        "print(fib)\n",
        "\n",
        "# adding items is done by add() method\n",
        "fib.add(233)\n",
        "print(fib)"
      ],
      "metadata": {
        "colab": {
          "base_uri": "https://localhost:8080/"
        },
        "id": "1PbMzSrIixJF",
        "outputId": "38429c15-0f95-48f0-fb64-8566379008d9"
      },
      "execution_count": null,
      "outputs": [
        {
          "output_type": "stream",
          "name": "stdout",
          "text": [
            "{1, 2, 3, 34, 5, 8, 13, 144, 21, 55, 89}\n",
            "{1, 2, 3, 34, 5, 8, 233, 13, 144, 21, 55, 89}\n"
          ]
        }
      ]
    },
    {
      "cell_type": "code",
      "source": [
        "# update used when adding more than 1 element\n",
        "\n",
        "fib.update([377, 610])\n",
        "print(fib)"
      ],
      "metadata": {
        "colab": {
          "base_uri": "https://localhost:8080/"
        },
        "id": "gVjWAVfwj2No",
        "outputId": "a8e152d5-79a4-4625-cfed-768f973704b7"
      },
      "execution_count": null,
      "outputs": [
        {
          "output_type": "stream",
          "name": "stdout",
          "text": [
            "{1, 2, 3, 34, 5, 610, 8, 233, 377, 13, 144, 21, 55, 89}\n"
          ]
        }
      ]
    },
    {
      "cell_type": "code",
      "source": [
        "fib.discard(1)\n",
        "print(fib)"
      ],
      "metadata": {
        "id": "Kn2abBbzkQOi",
        "colab": {
          "base_uri": "https://localhost:8080/"
        },
        "outputId": "f3733772-e78d-4a31-d38a-eb754377b5b6"
      },
      "execution_count": null,
      "outputs": [
        {
          "output_type": "stream",
          "name": "stdout",
          "text": [
            "{2, 3, 34, 5, 610, 8, 233, 377, 13, 144, 21, 55, 89}\n"
          ]
        }
      ]
    },
    {
      "cell_type": "code",
      "source": [
        "fruits = {'apple', 'banana', 'pineapple'}\n",
        "for fruit in fruits: \n",
        "    print(fruit)"
      ],
      "metadata": {
        "colab": {
          "base_uri": "https://localhost:8080/"
        },
        "id": "ZQ9aL2_tkicw",
        "outputId": "6c63ad05-ef55-4c12-f50f-6e50ad47ddc5"
      },
      "execution_count": null,
      "outputs": [
        {
          "output_type": "stream",
          "name": "stdout",
          "text": [
            "pineapple\n",
            "apple\n",
            "banana\n"
          ]
        }
      ]
    },
    {
      "cell_type": "markdown",
      "source": [
        "### Set Operations\n",
        "* Union\n",
        "* intersection\n",
        "* differences\n",
        "* symmetrical differences"
      ],
      "metadata": {
        "id": "dB0b5k6Mk-E7"
      }
    },
    {
      "cell_type": "code",
      "source": [
        "# union\n",
        "\n",
        "a = {1, 2, 3, 5, 7}\n",
        "b = {2, 4, 6, 8}\n",
        "print(a|b)\n",
        "print(a.union(b))"
      ],
      "metadata": {
        "colab": {
          "base_uri": "https://localhost:8080/"
        },
        "id": "ega6uoltklCl",
        "outputId": "1a64635c-f3d4-4232-f700-73aa34f366a6"
      },
      "execution_count": null,
      "outputs": [
        {
          "output_type": "stream",
          "name": "stdout",
          "text": [
            "{1, 2, 3, 4, 5, 6, 7, 8}\n",
            "{1, 2, 3, 4, 5, 6, 7, 8}\n"
          ]
        }
      ]
    },
    {
      "cell_type": "code",
      "source": [
        "print(a&b)\n",
        "print(a.intersection(b))"
      ],
      "metadata": {
        "colab": {
          "base_uri": "https://localhost:8080/"
        },
        "id": "6yVw2-TAley1",
        "outputId": "b397a4f2-15e5-432f-ee40-e7461001cc0e"
      },
      "execution_count": null,
      "outputs": [
        {
          "output_type": "stream",
          "name": "stdout",
          "text": [
            "{2}\n",
            "{2}\n"
          ]
        }
      ]
    },
    {
      "cell_type": "code",
      "source": [
        "print(a-b)\n",
        "print(a.difference(b))\n",
        "print(b.difference(a))"
      ],
      "metadata": {
        "colab": {
          "base_uri": "https://localhost:8080/"
        },
        "id": "bTYZUGZslpIl",
        "outputId": "34dcc158-4a58-49a9-a096-6f162ff89012"
      },
      "execution_count": null,
      "outputs": [
        {
          "output_type": "stream",
          "name": "stdout",
          "text": [
            "{1, 3, 5, 7}\n",
            "{1, 3, 5, 7}\n",
            "{8, 4, 6}\n"
          ]
        }
      ]
    },
    {
      "cell_type": "code",
      "source": [
        "print(a^b)\n",
        "print(a.symmetric_difference(b))"
      ],
      "metadata": {
        "colab": {
          "base_uri": "https://localhost:8080/"
        },
        "id": "mCoPr8hjlvH8",
        "outputId": "8efedbc9-e20b-49ed-9a81-b98259c5b745"
      },
      "execution_count": null,
      "outputs": [
        {
          "output_type": "stream",
          "name": "stdout",
          "text": [
            "{1, 3, 4, 5, 6, 7, 8}\n",
            "{1, 3, 4, 5, 6, 7, 8}\n"
          ]
        }
      ]
    },
    {
      "cell_type": "code",
      "source": [
        "# isdisjoint()\tReturns True if two sets have a null intersection\n",
        "# issubset()\tReturns True if another set contains this set\n",
        "# issuperset()\tReturns True if this set contains another set"
      ],
      "metadata": {
        "id": "s23OnEs9l4gk"
      },
      "execution_count": null,
      "outputs": []
    },
    {
      "cell_type": "markdown",
      "source": [
        "## Nesting\n",
        "\n",
        "Sometimes data structures are complex and need to be place in eachother. For example list in list or list in dictionary or list of dictionaries. All of these data types are supported in python.\n",
        "\n",
        "[{k:v, k:v} {k:v, k:v}]"
      ],
      "metadata": {
        "id": "68iRrSRumKjI"
      }
    },
    {
      "cell_type": "markdown",
      "source": [
        "# Pixel to image example"
      ],
      "metadata": {
        "id": "653VoQg-n2T2"
      }
    },
    {
      "cell_type": "code",
      "source": [
        "student_1 = {'Name': 'Jamshid', 'Major': 'Philosophy', 'Since': 2019}\n",
        "student_2 = {'Name': 'Fateme', 'Major': 'Psychology', 'Since': 2020}\n",
        "student_3 = {'Name': 'Javid', 'Major': 'Physiology', 'Since': 2017}\n",
        "\n",
        "students = [student_1, student_2, student_3]"
      ],
      "metadata": {
        "id": "kdleRfBsmLo4"
      },
      "execution_count": null,
      "outputs": []
    },
    {
      "cell_type": "code",
      "source": [
        "type(students)"
      ],
      "metadata": {
        "colab": {
          "base_uri": "https://localhost:8080/"
        },
        "id": "PHc4wwp7nu6x",
        "outputId": "316d3fd8-7c02-4ffe-8a1c-4b0ce27d763e"
      },
      "execution_count": null,
      "outputs": [
        {
          "output_type": "execute_result",
          "data": {
            "text/plain": [
              "list"
            ]
          },
          "metadata": {},
          "execution_count": 48
        }
      ]
    },
    {
      "cell_type": "code",
      "source": [
        "type(students[0])"
      ],
      "metadata": {
        "colab": {
          "base_uri": "https://localhost:8080/"
        },
        "id": "gNZhAJD24LRz",
        "outputId": "3a00d92a-2f6a-4e77-d8e6-20b7f2413337"
      },
      "execution_count": null,
      "outputs": [
        {
          "output_type": "execute_result",
          "data": {
            "text/plain": [
              "dict"
            ]
          },
          "metadata": {},
          "execution_count": 47
        }
      ]
    },
    {
      "cell_type": "code",
      "source": [
        "students[1]['Name']"
      ],
      "metadata": {
        "colab": {
          "base_uri": "https://localhost:8080/",
          "height": 35
        },
        "id": "4rUm9JGXnwU5",
        "outputId": "2fc1e7d2-1964-4c92-9dd9-7ca38b212718"
      },
      "execution_count": null,
      "outputs": [
        {
          "output_type": "execute_result",
          "data": {
            "text/plain": [
              "'Fateme'"
            ],
            "application/vnd.google.colaboratory.intrinsic+json": {
              "type": "string"
            }
          },
          "metadata": {},
          "execution_count": 48
        }
      ]
    },
    {
      "cell_type": "code",
      "source": [
        "for i in students[:2]:\n",
        "    print(f'{i[\"Name\"]} got in {i[\"Since\"]} to study {i[\"Major\"]}.')"
      ],
      "metadata": {
        "colab": {
          "base_uri": "https://localhost:8080/"
        },
        "id": "QTC9iy__oF-v",
        "outputId": "48b500b3-c70a-4a97-8951-7a427010e4a1"
      },
      "execution_count": null,
      "outputs": [
        {
          "output_type": "stream",
          "name": "stdout",
          "text": [
            "Jamshid got in 2019 to study Philosophy.\n",
            "Fateme got in 2020 to study Psychology.\n"
          ]
        }
      ]
    },
    {
      "cell_type": "markdown",
      "source": [
        "### Dictionary of Lists"
      ],
      "metadata": {
        "id": "yqc8pjeQp40Z"
      }
    },
    {
      "cell_type": "code",
      "source": [
        "coffee = {\n",
        "    'type': 'speciality',\n",
        "    'flavors': ['caramel', 'almond', 'orange', 'cocoa']\n",
        "}"
      ],
      "metadata": {
        "id": "W8U_ljihpd0P"
      },
      "execution_count": null,
      "outputs": []
    },
    {
      "cell_type": "code",
      "source": [
        "type(coffee['flavors'])"
      ],
      "metadata": {
        "colab": {
          "base_uri": "https://localhost:8080/"
        },
        "id": "EYrGbT0aqcG-",
        "outputId": "f8233a1a-cee0-4388-cb3d-f40d24e82018"
      },
      "execution_count": null,
      "outputs": [
        {
          "output_type": "execute_result",
          "data": {
            "text/plain": [
              "list"
            ]
          },
          "metadata": {},
          "execution_count": 52
        }
      ]
    },
    {
      "cell_type": "markdown",
      "source": [
        "### Dictionary of dictionary"
      ],
      "metadata": {
        "id": "PmWwMjYTqzrO"
      }
    },
    {
      "cell_type": "code",
      "source": [
        "cities_of_asia = {\n",
        "    'Guangzhou': {\n",
        "        'pop': 67_000_000,\n",
        "        'country': 'China'\n",
        "    },\n",
        "    'Mumbai': {\n",
        "        'pop': 26_000_000,\n",
        "        'country': 'India'\n",
        "    },\n",
        "    'Tokyo': {\n",
        "        'pop': 40_800_000,\n",
        "        'country': 'Japan'\n",
        "    }\n",
        "}"
      ],
      "metadata": {
        "id": "3xbj_FVYqpMO"
      },
      "execution_count": null,
      "outputs": []
    },
    {
      "cell_type": "code",
      "source": [
        "cities_of_asia['Mumbai']"
      ],
      "metadata": {
        "colab": {
          "base_uri": "https://localhost:8080/"
        },
        "id": "F9c_6uZC41fO",
        "outputId": "c497f24e-b409-43d2-bc16-2119579deb80"
      },
      "execution_count": null,
      "outputs": [
        {
          "output_type": "execute_result",
          "data": {
            "text/plain": [
              "{'pop': 26000000, 'country': 'India'}"
            ]
          },
          "metadata": {},
          "execution_count": 57
        }
      ]
    },
    {
      "cell_type": "code",
      "source": [
        "cities_of_asia['Mumbai']['pop']"
      ],
      "metadata": {
        "colab": {
          "base_uri": "https://localhost:8080/"
        },
        "id": "UgsGQtSorvUA",
        "outputId": "3e3de416-1565-4b8d-b1da-5b0437accaad"
      },
      "execution_count": null,
      "outputs": [
        {
          "output_type": "execute_result",
          "data": {
            "text/plain": [
              "26000000"
            ]
          },
          "metadata": {},
          "execution_count": 58
        }
      ]
    },
    {
      "cell_type": "markdown",
      "source": [
        "# This Weeks Exercise\n",
        "\n",
        "**Pets**: Make several dictionaries, where the name of each dictionary is the name of a pet. In each dictionary, include the kind of animal and the owner’s name . Store these dictionaries in a list called pets. Next, loop through your list and as you do print everything you know about each pet."
      ],
      "metadata": {
        "id": "_TX0O1TEtAJd"
      }
    },
    {
      "cell_type": "code",
      "source": [],
      "metadata": {
        "id": "7B5btLNVry9G"
      },
      "execution_count": null,
      "outputs": []
    }
  ]
}